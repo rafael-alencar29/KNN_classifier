{
  "cells": [
    {
      "cell_type": "code",
      "execution_count": 1,
      "metadata": {
        "id": "ekow0q2UXlxa"
      },
      "outputs": [],
      "source": [
        "import pandas as pd\n",
        "import numpy as np\n",
        "from sklearn import metrics\n",
        "import matplotlib.pyplot as plt\n",
        "%matplotlib inline\n",
        "\n",
        "obj = pd.read_pickle('mini_gm_public_v0.1.p')"
      ]
    },
    {
      "cell_type": "code",
      "execution_count": 2,
      "metadata": {
        "colab": {
          "base_uri": "https://localhost:8080/"
        },
        "id": "emKno6AbXlxg",
        "outputId": "a76b7348-38c6-4401-f8c9-88ea0a344257"
      },
      "outputs": [
        {
          "name": "stdout",
          "output_type": "stream",
          "text": [
            "<class 'dict'>\n",
            "10\n"
          ]
        }
      ],
      "source": [
        "print(type(obj))\n",
        "print(len(obj))"
      ]
    },
    {
      "cell_type": "code",
      "execution_count": 3,
      "metadata": {
        "colab": {
          "base_uri": "https://localhost:8080/"
        },
        "id": "cJi3aeUdXlxh",
        "outputId": "2fdd034d-ba8c-4bb7-8806-28be60203b6d"
      },
      "outputs": [
        {
          "name": "stdout",
          "output_type": "stream",
          "text": [
            "dict_keys(['300000082', '300000080', '700018215', '100610883', '100180860', '300000018', '100192430', '300000034', '100610443', '300000007'])\n"
          ]
        }
      ],
      "source": [
        "print(obj.keys())"
      ]
    },
    {
      "cell_type": "code",
      "execution_count": 4,
      "metadata": {
        "colab": {
          "base_uri": "https://localhost:8080/"
        },
        "id": "W9wNUgPAXlxi",
        "outputId": "5c691211-da42-43c7-a5e2-756fae978351"
      },
      "outputs": [
        {
          "name": "stdout",
          "output_type": "stream",
          "text": [
            "dict_keys(['595', '2638', '734490', '2770', '2642', '739644', '729196', '1314', '111', '739643', '739887', '739886', '739884', '739883', '735915', '170', '5902', '794', '2643', '739860', '738912', '738913', '735203', '738911', '2644', '926', '739596', '182', '183', '5906', '547', '739874', '5905', '735911', '5908', '739880', '728931', '728930', '728932', '738909', '203', '2768', '5903', '992', '2763', '2762', '2761', '2760', '2767', '2766', '2765', '2764', '734488', '734489', '2641', '738908', '2646', '921', '5907', '162', '105', '964', '965', '739878', '901', '739879', '729195', '750722', '738903', '738905', '738904', '739861', '2757', '5904', '754643', '728928', '728929', '728927', '738758', '1458', '738910', '2758', '2759'])\n",
            "83\n"
          ]
        }
      ],
      "source": [
        "print(obj['300000082'].keys())\n",
        "print(len(obj['300000082'].keys()))"
      ]
    },
    {
      "cell_type": "code",
      "execution_count": 5,
      "metadata": {
        "colab": {
          "base_uri": "https://localhost:8080/"
        },
        "id": "Lkq6-7-BXlxi",
        "outputId": "36c4d6fe-5591-40b2-d6b0-ea9a8be17827"
      },
      "outputs": [
        {
          "name": "stdout",
          "output_type": "stream",
          "text": [
            "320\n"
          ]
        }
      ],
      "source": [
        "# {'syndrome_id': { 'subject_id': {'image_id': [320x1 encoding]}}}\n",
        "#   print(obj['300000082']['595']['3543'])\n",
        "print(len(obj['300000082']['595']['3543']))"
      ]
    },
    {
      "cell_type": "code",
      "execution_count": 6,
      "metadata": {
        "colab": {
          "base_uri": "https://localhost:8080/"
        },
        "id": "0bcqGzQJXlxj",
        "outputId": "f6bd1eac-ba06-453b-d8c3-56ca2b9582aa"
      },
      "outputs": [
        {
          "name": "stdout",
          "output_type": "stream",
          "text": [
            "dict_keys(['595', '2638', '734490', '2770', '2642', '739644', '729196', '1314', '111', '739643', '739887', '739886', '739884', '739883', '735915', '170', '5902', '794', '2643', '739860', '738912', '738913', '735203', '738911', '2644', '926', '739596', '182', '183', '5906', '547', '739874', '5905', '735911', '5908', '739880', '728931', '728930', '728932', '738909', '203', '2768', '5903', '992', '2763', '2762', '2761', '2760', '2767', '2766', '2765', '2764', '734488', '734489', '2641', '738908', '2646', '921', '5907', '162', '105', '964', '965', '739878', '901', '739879', '729195', '750722', '738903', '738905', '738904', '739861', '2757', '5904', '754643', '728928', '728929', '728927', '738758', '1458', '738910', '2758', '2759'])\n"
          ]
        }
      ],
      "source": [
        "print(obj['300000082'].keys())"
      ]
    },
    {
      "cell_type": "code",
      "execution_count": 7,
      "metadata": {
        "colab": {
          "base_uri": "https://localhost:8080/"
        },
        "id": "ixiLDYb4Xlxj",
        "outputId": "122f9701-0b89-4843-b964-27bfa4f8c4fa"
      },
      "outputs": [
        {
          "name": "stdout",
          "output_type": "stream",
          "text": [
            "dict_keys(['300000082', '300000080', '700018215', '100610883', '100180860', '300000018', '100192430', '300000034', '100610443', '300000007'])\n"
          ]
        }
      ],
      "source": [
        "print(obj.keys())"
      ]
    },
    {
      "cell_type": "code",
      "execution_count": 8,
      "metadata": {
        "colab": {
          "base_uri": "https://localhost:8080/"
        },
        "id": "tzfssAToXlxk",
        "outputId": "7919e149-cd8c-40b6-c8a8-c6314a186504"
      },
      "outputs": [
        {
          "name": "stdout",
          "output_type": "stream",
          "text": [
            "Qtd de assuntos for sindrome: \n",
            "83\n",
            "180\n",
            "60\n",
            "59\n",
            "62\n",
            "64\n",
            "127\n",
            "137\n",
            "76\n",
            "93\n"
          ]
        }
      ],
      "source": [
        "count = 0\n",
        "subjects = []\n",
        "print(\"Qtd de assuntos for sindrome: \")\n",
        "for i in obj:\n",
        "    print(len(obj[i].keys()))\n",
        "    subjects.append(len(obj[i].keys()))"
      ]
    },
    {
      "cell_type": "code",
      "execution_count": 9,
      "metadata": {
        "colab": {
          "base_uri": "https://localhost:8080/"
        },
        "id": "m5gjrnq2Xlxl",
        "outputId": "102a81df-1f57-4aab-8239-13c63e7f05ec"
      },
      "outputs": [
        {
          "name": "stdout",
          "output_type": "stream",
          "text": [
            "941\n"
          ]
        }
      ],
      "source": [
        "print(sum(subjects))"
      ]
    },
    {
      "cell_type": "code",
      "execution_count": 10,
      "metadata": {
        "colab": {
          "base_uri": "https://localhost:8080/"
        },
        "id": "-g4zvVPTXlxl",
        "outputId": "2b8c545a-9e67-4dd1-f5b1-0e1af4c659e7"
      },
      "outputs": [
        {
          "name": "stdout",
          "output_type": "stream",
          "text": [
            "dict_keys(['3543'])\n",
            "dict_keys(['1633'])\n",
            "dict_keys(['742992'])\n",
            "dict_keys(['1812'])\n",
            "dict_keys(['1801'])\n",
            "dict_keys(['758246'])\n",
            "dict_keys(['719157'])\n",
            "dict_keys(['3541'])\n",
            "dict_keys(['4329'])\n",
            "dict_keys(['758242'])\n",
            "dict_keys(['758661'])\n",
            "dict_keys(['758660'])\n",
            "dict_keys(['758656'])\n",
            "dict_keys(['758655'])\n",
            "dict_keys(['749515', '749521'])\n",
            "dict_keys(['5158'])\n",
            "dict_keys(['248'])\n",
            "dict_keys(['3361'])\n",
            "dict_keys(['1803'])\n",
            "dict_keys(['758618'])\n",
            "dict_keys(['756772'])\n",
            "dict_keys(['756775'])\n",
            "dict_keys(['744762', '744760', '744761'])\n",
            "dict_keys(['756770'])\n",
            "dict_keys(['1804'])\n",
            "dict_keys(['3360'])\n",
            "dict_keys(['758134', '758133'])\n",
            "dict_keys(['5156'])\n",
            "dict_keys(['5157'])\n",
            "dict_keys(['252'])\n",
            "dict_keys(['3362'])\n",
            "dict_keys(['758633', '758632'])\n",
            "dict_keys(['251'])\n",
            "dict_keys(['749513'])\n",
            "dict_keys(['254'])\n",
            "dict_keys(['758652'])\n",
            "dict_keys(['718660'])\n",
            "dict_keys(['718658'])\n",
            "dict_keys(['718661'])\n",
            "dict_keys(['756765'])\n",
            "dict_keys(['3826'])\n",
            "dict_keys(['1817'])\n",
            "dict_keys(['249'])\n",
            "dict_keys(['3539'])\n",
            "dict_keys(['1798'])\n",
            "dict_keys(['1799'])\n",
            "dict_keys(['1800'])\n",
            "dict_keys(['1805'])\n",
            "dict_keys(['1815'])\n",
            "dict_keys(['1816'])\n",
            "dict_keys(['1807'])\n",
            "dict_keys(['1814'])\n",
            "dict_keys(['742990'])\n",
            "dict_keys(['742991'])\n",
            "dict_keys(['1802'])\n",
            "dict_keys(['756763', '756762'])\n",
            "dict_keys(['1806'])\n",
            "dict_keys(['3542'])\n",
            "dict_keys(['253'])\n",
            "dict_keys(['3363'])\n",
            "dict_keys(['5159'])\n",
            "dict_keys(['3538'])\n",
            "dict_keys(['3537'])\n",
            "dict_keys(['758648', '758649', '758645', '758646', '758647', '758639', '758638'])\n",
            "dict_keys(['3540'])\n",
            "dict_keys(['758650'])\n",
            "dict_keys(['719156'])\n",
            "dict_keys(['803738'])\n",
            "dict_keys(['756750', '756751'])\n",
            "dict_keys(['798857', '756754'])\n",
            "dict_keys(['756752'])\n",
            "dict_keys(['758619'])\n",
            "dict_keys(['1809'])\n",
            "dict_keys(['250'])\n",
            "dict_keys(['812000', '812003'])\n",
            "dict_keys(['718655'])\n",
            "dict_keys(['718656'])\n",
            "dict_keys(['718652'])\n",
            "dict_keys(['756372'])\n",
            "dict_keys(['1811'])\n",
            "dict_keys(['756768'])\n",
            "dict_keys(['1808'])\n",
            "dict_keys(['1810'])\n"
          ]
        }
      ],
      "source": [
        "count = 0\n",
        "test = {}\n",
        "for i in obj['300000082']:\n",
        "    print(obj['300000082'][i].keys())"
      ]
    },
    {
      "cell_type": "code",
      "execution_count": 11,
      "metadata": {
        "colab": {
          "base_uri": "https://localhost:8080/"
        },
        "id": "Uk6LlnlSXlxm",
        "outputId": "259bf3ac-e870-4758-b2e4-dc2ea6e971b3"
      },
      "outputs": [
        {
          "name": "stdout",
          "output_type": "stream",
          "text": [
            "dict_keys(['3543'])\n"
          ]
        }
      ],
      "source": [
        "#print(obj['300000082']['595']['3543'])\n",
        "print(obj['300000082']['595'].keys())"
      ]
    },
    {
      "cell_type": "code",
      "execution_count": 12,
      "metadata": {
        "colab": {
          "base_uri": "https://localhost:8080/"
        },
        "id": "o7DacDxBXlxm",
        "outputId": "d72c1dc2-9c81-46f8-880a-f756ca1328df"
      },
      "outputs": [
        {
          "name": "stdout",
          "output_type": "stream",
          "text": [
            "98\n",
            "<class 'numpy.ndarray'>\n"
          ]
        }
      ],
      "source": [
        "count = 0\n",
        "test = {}\n",
        "my_list = []\n",
        "for i in obj['300000082']:\n",
        "    for j in obj['300000082'][i].keys():\n",
        "        my_list.append(obj['300000082'][i][j])\n",
        "        count += 1\n",
        "\n",
        "print(len(my_list))\n",
        "print(type(my_list[0]))"
      ]
    },
    {
      "cell_type": "code",
      "execution_count": 13,
      "metadata": {
        "colab": {
          "base_uri": "https://localhost:8080/"
        },
        "id": "YHUbfNfIXlxm",
        "outputId": "9ffb3626-ac43-4a19-c236-385ffdaf8f04"
      },
      "outputs": [
        {
          "name": "stdout",
          "output_type": "stream",
          "text": [
            "198\n",
            "<class 'numpy.ndarray'>\n"
          ]
        }
      ],
      "source": [
        "count = 0\n",
        "test = {}\n",
        "my_list = []\n",
        "value = np.empty(320)\n",
        "for i in obj['300000080']:\n",
        "    for j in obj['300000080'][i].keys():\n",
        "        my_list.append(obj['300000080'][i][j])\n",
        "        count += 1\n",
        "\n",
        "print(len(my_list))\n",
        "print(type(my_list[0]))"
      ]
    },
    {
      "cell_type": "code",
      "execution_count": 14,
      "metadata": {
        "colab": {
          "base_uri": "https://localhost:8080/"
        },
        "id": "t7W3pPWqXlxn",
        "outputId": "23a40122-b393-4214-dfb7-eb6eef313f10"
      },
      "outputs": [
        {
          "name": "stdout",
          "output_type": "stream",
          "text": [
            "64\n",
            "<class 'numpy.ndarray'>\n"
          ]
        }
      ],
      "source": [
        "count = 0\n",
        "test = {}\n",
        "my_list = []\n",
        "for i in obj['700018215']:\n",
        "    for j in obj['700018215'][i].keys():\n",
        "        my_list.append(obj['700018215'][i][j])\n",
        "        count += 1\n",
        "\n",
        "print(len(my_list))\n",
        "print(type(my_list[0]))"
      ]
    },
    {
      "cell_type": "code",
      "execution_count": 15,
      "metadata": {
        "colab": {
          "base_uri": "https://localhost:8080/"
        },
        "id": "GdRCIrlIXlxn",
        "outputId": "04aa439e-2398-4416-c75f-3358c1416e7b"
      },
      "outputs": [
        {
          "name": "stdout",
          "output_type": "stream",
          "text": [
            "Qtd imagens for sindrome: \n",
            "[98, 198, 64, 65, 67, 74, 136, 210, 89, 115]\n"
          ]
        }
      ],
      "source": [
        "count = 0\n",
        "imgs_total = []\n",
        "data = {}\n",
        "encoding_values = []\n",
        "value = np.empty(320)\n",
        "\n",
        "print(\"Qtd imagens for sindrome: \")\n",
        "for i in obj:\n",
        "    for j in obj[i]:\n",
        "        for img in obj[i][j]:\n",
        "            count +=1\n",
        "            #value = obj[i][j][img]\n",
        "            encoding_values.append(obj[i][j][img])\n",
        "\n",
        "    data[i] = encoding_values\n",
        "    encoding_values = []\n",
        "\n",
        "    imgs_total.append(count)\n",
        "    count = 0\n",
        "print(imgs_total)"
      ]
    },
    {
      "cell_type": "code",
      "execution_count": 16,
      "metadata": {
        "colab": {
          "base_uri": "https://localhost:8080/"
        },
        "id": "XttnOUOIXlxn",
        "outputId": "c305e6db-28c2-4df5-d684-2ebbf9418d22"
      },
      "outputs": [
        {
          "name": "stdout",
          "output_type": "stream",
          "text": [
            "Total images =  1116\n"
          ]
        }
      ],
      "source": [
        "print(\"Total images = \", sum(imgs_total))"
      ]
    },
    {
      "cell_type": "code",
      "execution_count": 17,
      "metadata": {
        "colab": {
          "base_uri": "https://localhost:8080/"
        },
        "id": "-8i-oW7cXlxo",
        "outputId": "154055cc-2f96-45ba-86d3-a0b650cd9719"
      },
      "outputs": [
        {
          "data": {
            "text/plain": [
              "dict_keys(['300000082', '300000080', '700018215', '100610883', '100180860', '300000018', '100192430', '300000034', '100610443', '300000007'])"
            ]
          },
          "execution_count": 17,
          "metadata": {},
          "output_type": "execute_result"
        }
      ],
      "source": [
        "data.keys()"
      ]
    },
    {
      "cell_type": "code",
      "execution_count": 18,
      "metadata": {
        "id": "gHLdNMPIXlxo"
      },
      "outputs": [],
      "source": [
        "values = []\n",
        "syndrome_ids = []"
      ]
    },
    {
      "cell_type": "code",
      "execution_count": 19,
      "metadata": {
        "id": "efhTPfQfXlxo"
      },
      "outputs": [],
      "source": [
        "for i in data:\n",
        "    for j in data[i]:\n",
        "        values.append(j)\n",
        "        syndrome_ids.append(i)\n"
      ]
    },
    {
      "cell_type": "code",
      "execution_count": 20,
      "metadata": {
        "id": "VyDh0y-IXlxp"
      },
      "outputs": [],
      "source": [
        "df = {\n",
        "    \"images encoding\" : values,\n",
        "    \"syndrome\" : syndrome_ids\n",
        "}"
      ]
    },
    {
      "cell_type": "code",
      "execution_count": 21,
      "metadata": {
        "id": "xZYr7LDtXlxp"
      },
      "outputs": [],
      "source": [
        "df = pd.DataFrame.from_dict(df)"
      ]
    },
    {
      "cell_type": "code",
      "execution_count": 22,
      "metadata": {
        "colab": {
          "base_uri": "https://localhost:8080/",
          "height": 424
        },
        "id": "ovLLYgujXlxp",
        "outputId": "2b2d47b4-490b-4b5c-9b5b-c69b16d84139"
      },
      "outputs": [
        {
          "data": {
            "text/html": [
              "<div>\n",
              "<style scoped>\n",
              "    .dataframe tbody tr th:only-of-type {\n",
              "        vertical-align: middle;\n",
              "    }\n",
              "\n",
              "    .dataframe tbody tr th {\n",
              "        vertical-align: top;\n",
              "    }\n",
              "\n",
              "    .dataframe thead th {\n",
              "        text-align: right;\n",
              "    }\n",
              "</style>\n",
              "<table border=\"1\" class=\"dataframe\">\n",
              "  <thead>\n",
              "    <tr style=\"text-align: right;\">\n",
              "      <th></th>\n",
              "      <th>images encoding</th>\n",
              "      <th>syndrome</th>\n",
              "    </tr>\n",
              "  </thead>\n",
              "  <tbody>\n",
              "    <tr>\n",
              "      <th>0</th>\n",
              "      <td>[-0.03718013, 1.741486, 1.2061033, -0.45145318...</td>\n",
              "      <td>300000082</td>\n",
              "    </tr>\n",
              "    <tr>\n",
              "      <th>1</th>\n",
              "      <td>[2.4249947, 0.17991967, 2.9503245, 0.37993023,...</td>\n",
              "      <td>300000082</td>\n",
              "    </tr>\n",
              "    <tr>\n",
              "      <th>2</th>\n",
              "      <td>[-1.7893314, -0.21621145, 0.43431538, -0.55232...</td>\n",
              "      <td>300000082</td>\n",
              "    </tr>\n",
              "    <tr>\n",
              "      <th>3</th>\n",
              "      <td>[-1.1436926, -0.7146209, 0.31948757, 0.4556819...</td>\n",
              "      <td>300000082</td>\n",
              "    </tr>\n",
              "    <tr>\n",
              "      <th>4</th>\n",
              "      <td>[0.81417066, 1.3274913, 0.84728503, -0.2123311...</td>\n",
              "      <td>300000082</td>\n",
              "    </tr>\n",
              "    <tr>\n",
              "      <th>...</th>\n",
              "      <td>...</td>\n",
              "      <td>...</td>\n",
              "    </tr>\n",
              "    <tr>\n",
              "      <th>1111</th>\n",
              "      <td>[0.8748908, 2.436136, -1.7883539, 0.012363119,...</td>\n",
              "      <td>300000007</td>\n",
              "    </tr>\n",
              "    <tr>\n",
              "      <th>1112</th>\n",
              "      <td>[0.72461146, -0.39363632, 1.6491495, 1.1410508...</td>\n",
              "      <td>300000007</td>\n",
              "    </tr>\n",
              "    <tr>\n",
              "      <th>1113</th>\n",
              "      <td>[-1.5241687, -1.470528, 0.5967394, 1.2362618, ...</td>\n",
              "      <td>300000007</td>\n",
              "    </tr>\n",
              "    <tr>\n",
              "      <th>1114</th>\n",
              "      <td>[-0.27531493, -1.003529, 0.8483238, -0.2545608...</td>\n",
              "      <td>300000007</td>\n",
              "    </tr>\n",
              "    <tr>\n",
              "      <th>1115</th>\n",
              "      <td>[-1.1527339, -1.4011694, -0.66990227, -0.27864...</td>\n",
              "      <td>300000007</td>\n",
              "    </tr>\n",
              "  </tbody>\n",
              "</table>\n",
              "<p>1116 rows × 2 columns</p>\n",
              "</div>"
            ],
            "text/plain": [
              "                                        images encoding   syndrome\n",
              "0     [-0.03718013, 1.741486, 1.2061033, -0.45145318...  300000082\n",
              "1     [2.4249947, 0.17991967, 2.9503245, 0.37993023,...  300000082\n",
              "2     [-1.7893314, -0.21621145, 0.43431538, -0.55232...  300000082\n",
              "3     [-1.1436926, -0.7146209, 0.31948757, 0.4556819...  300000082\n",
              "4     [0.81417066, 1.3274913, 0.84728503, -0.2123311...  300000082\n",
              "...                                                 ...        ...\n",
              "1111  [0.8748908, 2.436136, -1.7883539, 0.012363119,...  300000007\n",
              "1112  [0.72461146, -0.39363632, 1.6491495, 1.1410508...  300000007\n",
              "1113  [-1.5241687, -1.470528, 0.5967394, 1.2362618, ...  300000007\n",
              "1114  [-0.27531493, -1.003529, 0.8483238, -0.2545608...  300000007\n",
              "1115  [-1.1527339, -1.4011694, -0.66990227, -0.27864...  300000007\n",
              "\n",
              "[1116 rows x 2 columns]"
            ]
          },
          "execution_count": 22,
          "metadata": {},
          "output_type": "execute_result"
        }
      ],
      "source": [
        "df"
      ]
    },
    {
      "cell_type": "markdown",
      "metadata": {},
      "source": [
        "Creation of a definitive dataset"
      ]
    },
    {
      "cell_type": "code",
      "execution_count": 23,
      "metadata": {
        "id": "K93OGV_9uV5D"
      },
      "outputs": [],
      "source": [
        "features_id = []\n",
        "for i in range(1,321):\n",
        "  features_id.append(f\"feature_{i}\")"
      ]
    },
    {
      "cell_type": "code",
      "execution_count": 24,
      "metadata": {
        "id": "mfl472LPtDFa"
      },
      "outputs": [],
      "source": [
        "data = pd.DataFrame(columns=features_id)"
      ]
    },
    {
      "cell_type": "code",
      "execution_count": 25,
      "metadata": {
        "colab": {
          "base_uri": "https://localhost:8080/",
          "height": 109
        },
        "id": "HHGmisZ7tHSB",
        "outputId": "ca67ee48-052d-4462-d1ac-e6778d151cda"
      },
      "outputs": [
        {
          "data": {
            "text/html": [
              "<div>\n",
              "<style scoped>\n",
              "    .dataframe tbody tr th:only-of-type {\n",
              "        vertical-align: middle;\n",
              "    }\n",
              "\n",
              "    .dataframe tbody tr th {\n",
              "        vertical-align: top;\n",
              "    }\n",
              "\n",
              "    .dataframe thead th {\n",
              "        text-align: right;\n",
              "    }\n",
              "</style>\n",
              "<table border=\"1\" class=\"dataframe\">\n",
              "  <thead>\n",
              "    <tr style=\"text-align: right;\">\n",
              "      <th></th>\n",
              "      <th>feature_1</th>\n",
              "      <th>feature_2</th>\n",
              "      <th>feature_3</th>\n",
              "      <th>feature_4</th>\n",
              "      <th>feature_5</th>\n",
              "      <th>feature_6</th>\n",
              "      <th>feature_7</th>\n",
              "      <th>feature_8</th>\n",
              "      <th>feature_9</th>\n",
              "      <th>feature_10</th>\n",
              "      <th>...</th>\n",
              "      <th>feature_311</th>\n",
              "      <th>feature_312</th>\n",
              "      <th>feature_313</th>\n",
              "      <th>feature_314</th>\n",
              "      <th>feature_315</th>\n",
              "      <th>feature_316</th>\n",
              "      <th>feature_317</th>\n",
              "      <th>feature_318</th>\n",
              "      <th>feature_319</th>\n",
              "      <th>feature_320</th>\n",
              "    </tr>\n",
              "  </thead>\n",
              "  <tbody>\n",
              "  </tbody>\n",
              "</table>\n",
              "<p>0 rows × 320 columns</p>\n",
              "</div>"
            ],
            "text/plain": [
              "Empty DataFrame\n",
              "Columns: [feature_1, feature_2, feature_3, feature_4, feature_5, feature_6, feature_7, feature_8, feature_9, feature_10, feature_11, feature_12, feature_13, feature_14, feature_15, feature_16, feature_17, feature_18, feature_19, feature_20, feature_21, feature_22, feature_23, feature_24, feature_25, feature_26, feature_27, feature_28, feature_29, feature_30, feature_31, feature_32, feature_33, feature_34, feature_35, feature_36, feature_37, feature_38, feature_39, feature_40, feature_41, feature_42, feature_43, feature_44, feature_45, feature_46, feature_47, feature_48, feature_49, feature_50, feature_51, feature_52, feature_53, feature_54, feature_55, feature_56, feature_57, feature_58, feature_59, feature_60, feature_61, feature_62, feature_63, feature_64, feature_65, feature_66, feature_67, feature_68, feature_69, feature_70, feature_71, feature_72, feature_73, feature_74, feature_75, feature_76, feature_77, feature_78, feature_79, feature_80, feature_81, feature_82, feature_83, feature_84, feature_85, feature_86, feature_87, feature_88, feature_89, feature_90, feature_91, feature_92, feature_93, feature_94, feature_95, feature_96, feature_97, feature_98, feature_99, feature_100, ...]\n",
              "Index: []\n",
              "\n",
              "[0 rows x 320 columns]"
            ]
          },
          "execution_count": 25,
          "metadata": {},
          "output_type": "execute_result"
        }
      ],
      "source": [
        "data"
      ]
    },
    {
      "cell_type": "code",
      "execution_count": 26,
      "metadata": {
        "id": "rKEXx8gMzUF_"
      },
      "outputs": [],
      "source": [
        "#data.loc[len(data.index)] = list(df['images encoding'][0])"
      ]
    },
    {
      "cell_type": "code",
      "execution_count": 27,
      "metadata": {
        "id": "DUermPOO1FFo"
      },
      "outputs": [],
      "source": [
        "for i in range(1116):\n",
        "  data.loc[len(data.index)] = list(df['images encoding'][i])"
      ]
    },
    {
      "cell_type": "code",
      "execution_count": 28,
      "metadata": {
        "colab": {
          "base_uri": "https://localhost:8080/",
          "height": 444
        },
        "id": "MUP9GJiy065a",
        "outputId": "108fde14-bc86-4baf-9011-b9a95618b736"
      },
      "outputs": [
        {
          "data": {
            "text/html": [
              "<div>\n",
              "<style scoped>\n",
              "    .dataframe tbody tr th:only-of-type {\n",
              "        vertical-align: middle;\n",
              "    }\n",
              "\n",
              "    .dataframe tbody tr th {\n",
              "        vertical-align: top;\n",
              "    }\n",
              "\n",
              "    .dataframe thead th {\n",
              "        text-align: right;\n",
              "    }\n",
              "</style>\n",
              "<table border=\"1\" class=\"dataframe\">\n",
              "  <thead>\n",
              "    <tr style=\"text-align: right;\">\n",
              "      <th></th>\n",
              "      <th>feature_1</th>\n",
              "      <th>feature_2</th>\n",
              "      <th>feature_3</th>\n",
              "      <th>feature_4</th>\n",
              "      <th>feature_5</th>\n",
              "      <th>feature_6</th>\n",
              "      <th>feature_7</th>\n",
              "      <th>feature_8</th>\n",
              "      <th>feature_9</th>\n",
              "      <th>feature_10</th>\n",
              "      <th>...</th>\n",
              "      <th>feature_311</th>\n",
              "      <th>feature_312</th>\n",
              "      <th>feature_313</th>\n",
              "      <th>feature_314</th>\n",
              "      <th>feature_315</th>\n",
              "      <th>feature_316</th>\n",
              "      <th>feature_317</th>\n",
              "      <th>feature_318</th>\n",
              "      <th>feature_319</th>\n",
              "      <th>feature_320</th>\n",
              "    </tr>\n",
              "  </thead>\n",
              "  <tbody>\n",
              "    <tr>\n",
              "      <th>0</th>\n",
              "      <td>-0.037180</td>\n",
              "      <td>1.741486</td>\n",
              "      <td>1.206103</td>\n",
              "      <td>-0.451453</td>\n",
              "      <td>-0.736373</td>\n",
              "      <td>1.705392</td>\n",
              "      <td>0.738040</td>\n",
              "      <td>1.027470</td>\n",
              "      <td>0.691436</td>\n",
              "      <td>-0.505316</td>\n",
              "      <td>...</td>\n",
              "      <td>1.783927</td>\n",
              "      <td>1.587222</td>\n",
              "      <td>-1.522482</td>\n",
              "      <td>-3.935935</td>\n",
              "      <td>0.007990</td>\n",
              "      <td>0.668852</td>\n",
              "      <td>1.129786</td>\n",
              "      <td>0.097900</td>\n",
              "      <td>-0.768619</td>\n",
              "      <td>0.271600</td>\n",
              "    </tr>\n",
              "    <tr>\n",
              "      <th>1</th>\n",
              "      <td>2.424995</td>\n",
              "      <td>0.179920</td>\n",
              "      <td>2.950325</td>\n",
              "      <td>0.379930</td>\n",
              "      <td>-0.158152</td>\n",
              "      <td>-0.238334</td>\n",
              "      <td>-0.436916</td>\n",
              "      <td>1.179637</td>\n",
              "      <td>0.143056</td>\n",
              "      <td>1.888786</td>\n",
              "      <td>...</td>\n",
              "      <td>-0.665296</td>\n",
              "      <td>0.367323</td>\n",
              "      <td>-2.437823</td>\n",
              "      <td>-2.704050</td>\n",
              "      <td>1.696490</td>\n",
              "      <td>-0.471431</td>\n",
              "      <td>2.529153</td>\n",
              "      <td>1.107004</td>\n",
              "      <td>-3.214602</td>\n",
              "      <td>-1.450313</td>\n",
              "    </tr>\n",
              "    <tr>\n",
              "      <th>2</th>\n",
              "      <td>-1.789331</td>\n",
              "      <td>-0.216211</td>\n",
              "      <td>0.434315</td>\n",
              "      <td>-0.552323</td>\n",
              "      <td>-1.065345</td>\n",
              "      <td>1.817165</td>\n",
              "      <td>0.006342</td>\n",
              "      <td>0.568629</td>\n",
              "      <td>-1.739190</td>\n",
              "      <td>-1.749137</td>\n",
              "      <td>...</td>\n",
              "      <td>0.439080</td>\n",
              "      <td>0.861753</td>\n",
              "      <td>-0.544255</td>\n",
              "      <td>-0.486401</td>\n",
              "      <td>-2.228478</td>\n",
              "      <td>0.964719</td>\n",
              "      <td>-0.297413</td>\n",
              "      <td>-0.623660</td>\n",
              "      <td>-0.208614</td>\n",
              "      <td>0.236617</td>\n",
              "    </tr>\n",
              "    <tr>\n",
              "      <th>3</th>\n",
              "      <td>-1.143693</td>\n",
              "      <td>-0.714621</td>\n",
              "      <td>0.319488</td>\n",
              "      <td>0.455682</td>\n",
              "      <td>1.571120</td>\n",
              "      <td>-0.837411</td>\n",
              "      <td>0.726402</td>\n",
              "      <td>0.818733</td>\n",
              "      <td>-1.069280</td>\n",
              "      <td>-0.101228</td>\n",
              "      <td>...</td>\n",
              "      <td>-0.414648</td>\n",
              "      <td>-0.121709</td>\n",
              "      <td>-1.838737</td>\n",
              "      <td>-0.405826</td>\n",
              "      <td>0.190536</td>\n",
              "      <td>0.651180</td>\n",
              "      <td>0.539327</td>\n",
              "      <td>-0.103917</td>\n",
              "      <td>-3.094141</td>\n",
              "      <td>0.867695</td>\n",
              "    </tr>\n",
              "    <tr>\n",
              "      <th>4</th>\n",
              "      <td>0.814171</td>\n",
              "      <td>1.327491</td>\n",
              "      <td>0.847285</td>\n",
              "      <td>-0.212331</td>\n",
              "      <td>-0.161848</td>\n",
              "      <td>0.468158</td>\n",
              "      <td>-1.385634</td>\n",
              "      <td>2.383406</td>\n",
              "      <td>0.103738</td>\n",
              "      <td>0.387873</td>\n",
              "      <td>...</td>\n",
              "      <td>-0.321441</td>\n",
              "      <td>0.560821</td>\n",
              "      <td>-4.187195</td>\n",
              "      <td>-0.589926</td>\n",
              "      <td>0.104791</td>\n",
              "      <td>1.157607</td>\n",
              "      <td>1.382157</td>\n",
              "      <td>-0.184572</td>\n",
              "      <td>-2.582998</td>\n",
              "      <td>0.356301</td>\n",
              "    </tr>\n",
              "    <tr>\n",
              "      <th>...</th>\n",
              "      <td>...</td>\n",
              "      <td>...</td>\n",
              "      <td>...</td>\n",
              "      <td>...</td>\n",
              "      <td>...</td>\n",
              "      <td>...</td>\n",
              "      <td>...</td>\n",
              "      <td>...</td>\n",
              "      <td>...</td>\n",
              "      <td>...</td>\n",
              "      <td>...</td>\n",
              "      <td>...</td>\n",
              "      <td>...</td>\n",
              "      <td>...</td>\n",
              "      <td>...</td>\n",
              "      <td>...</td>\n",
              "      <td>...</td>\n",
              "      <td>...</td>\n",
              "      <td>...</td>\n",
              "      <td>...</td>\n",
              "      <td>...</td>\n",
              "    </tr>\n",
              "    <tr>\n",
              "      <th>1111</th>\n",
              "      <td>0.874891</td>\n",
              "      <td>2.436136</td>\n",
              "      <td>-1.788354</td>\n",
              "      <td>0.012363</td>\n",
              "      <td>-0.126630</td>\n",
              "      <td>0.017039</td>\n",
              "      <td>-2.897007</td>\n",
              "      <td>-1.107453</td>\n",
              "      <td>-1.382568</td>\n",
              "      <td>0.128258</td>\n",
              "      <td>...</td>\n",
              "      <td>0.511603</td>\n",
              "      <td>-2.191810</td>\n",
              "      <td>-1.785794</td>\n",
              "      <td>-3.329948</td>\n",
              "      <td>-0.046203</td>\n",
              "      <td>-0.818496</td>\n",
              "      <td>-2.515900</td>\n",
              "      <td>0.292273</td>\n",
              "      <td>0.122881</td>\n",
              "      <td>0.763220</td>\n",
              "    </tr>\n",
              "    <tr>\n",
              "      <th>1112</th>\n",
              "      <td>0.724611</td>\n",
              "      <td>-0.393636</td>\n",
              "      <td>1.649150</td>\n",
              "      <td>1.141051</td>\n",
              "      <td>0.140459</td>\n",
              "      <td>-0.963627</td>\n",
              "      <td>-0.347281</td>\n",
              "      <td>-1.599028</td>\n",
              "      <td>-1.849923</td>\n",
              "      <td>0.872322</td>\n",
              "      <td>...</td>\n",
              "      <td>-0.740028</td>\n",
              "      <td>-0.669405</td>\n",
              "      <td>0.038592</td>\n",
              "      <td>-0.303483</td>\n",
              "      <td>-0.938461</td>\n",
              "      <td>0.503595</td>\n",
              "      <td>0.107434</td>\n",
              "      <td>1.579869</td>\n",
              "      <td>-1.386467</td>\n",
              "      <td>1.287389</td>\n",
              "    </tr>\n",
              "    <tr>\n",
              "      <th>1113</th>\n",
              "      <td>-1.524169</td>\n",
              "      <td>-1.470528</td>\n",
              "      <td>0.596739</td>\n",
              "      <td>1.236262</td>\n",
              "      <td>-0.269673</td>\n",
              "      <td>-1.351564</td>\n",
              "      <td>-0.396654</td>\n",
              "      <td>-1.317100</td>\n",
              "      <td>-1.162278</td>\n",
              "      <td>-0.174212</td>\n",
              "      <td>...</td>\n",
              "      <td>1.119824</td>\n",
              "      <td>0.116515</td>\n",
              "      <td>0.167950</td>\n",
              "      <td>0.541960</td>\n",
              "      <td>0.304160</td>\n",
              "      <td>1.813851</td>\n",
              "      <td>-0.044149</td>\n",
              "      <td>-0.324914</td>\n",
              "      <td>-1.845145</td>\n",
              "      <td>0.651195</td>\n",
              "    </tr>\n",
              "    <tr>\n",
              "      <th>1114</th>\n",
              "      <td>-0.275315</td>\n",
              "      <td>-1.003529</td>\n",
              "      <td>0.848324</td>\n",
              "      <td>-0.254561</td>\n",
              "      <td>-0.334891</td>\n",
              "      <td>-0.977900</td>\n",
              "      <td>-0.617443</td>\n",
              "      <td>-0.567237</td>\n",
              "      <td>-1.013448</td>\n",
              "      <td>-1.756144</td>\n",
              "      <td>...</td>\n",
              "      <td>1.251905</td>\n",
              "      <td>-0.247511</td>\n",
              "      <td>-0.592460</td>\n",
              "      <td>-0.877069</td>\n",
              "      <td>-0.919258</td>\n",
              "      <td>1.034928</td>\n",
              "      <td>2.437233</td>\n",
              "      <td>0.763764</td>\n",
              "      <td>-1.013347</td>\n",
              "      <td>1.119919</td>\n",
              "    </tr>\n",
              "    <tr>\n",
              "      <th>1115</th>\n",
              "      <td>-1.152734</td>\n",
              "      <td>-1.401169</td>\n",
              "      <td>-0.669902</td>\n",
              "      <td>-0.278648</td>\n",
              "      <td>-1.754148</td>\n",
              "      <td>-0.119295</td>\n",
              "      <td>-0.912136</td>\n",
              "      <td>-1.444287</td>\n",
              "      <td>-2.053032</td>\n",
              "      <td>-1.237944</td>\n",
              "      <td>...</td>\n",
              "      <td>-1.386605</td>\n",
              "      <td>-1.242449</td>\n",
              "      <td>0.137149</td>\n",
              "      <td>0.419821</td>\n",
              "      <td>-1.633390</td>\n",
              "      <td>1.074383</td>\n",
              "      <td>-2.169581</td>\n",
              "      <td>-0.450305</td>\n",
              "      <td>-0.292951</td>\n",
              "      <td>-1.008367</td>\n",
              "    </tr>\n",
              "  </tbody>\n",
              "</table>\n",
              "<p>1116 rows × 320 columns</p>\n",
              "</div>"
            ],
            "text/plain": [
              "      feature_1  feature_2  feature_3  feature_4  feature_5  feature_6  \\\n",
              "0     -0.037180   1.741486   1.206103  -0.451453  -0.736373   1.705392   \n",
              "1      2.424995   0.179920   2.950325   0.379930  -0.158152  -0.238334   \n",
              "2     -1.789331  -0.216211   0.434315  -0.552323  -1.065345   1.817165   \n",
              "3     -1.143693  -0.714621   0.319488   0.455682   1.571120  -0.837411   \n",
              "4      0.814171   1.327491   0.847285  -0.212331  -0.161848   0.468158   \n",
              "...         ...        ...        ...        ...        ...        ...   \n",
              "1111   0.874891   2.436136  -1.788354   0.012363  -0.126630   0.017039   \n",
              "1112   0.724611  -0.393636   1.649150   1.141051   0.140459  -0.963627   \n",
              "1113  -1.524169  -1.470528   0.596739   1.236262  -0.269673  -1.351564   \n",
              "1114  -0.275315  -1.003529   0.848324  -0.254561  -0.334891  -0.977900   \n",
              "1115  -1.152734  -1.401169  -0.669902  -0.278648  -1.754148  -0.119295   \n",
              "\n",
              "      feature_7  feature_8  feature_9  feature_10  ...  feature_311  \\\n",
              "0      0.738040   1.027470   0.691436   -0.505316  ...     1.783927   \n",
              "1     -0.436916   1.179637   0.143056    1.888786  ...    -0.665296   \n",
              "2      0.006342   0.568629  -1.739190   -1.749137  ...     0.439080   \n",
              "3      0.726402   0.818733  -1.069280   -0.101228  ...    -0.414648   \n",
              "4     -1.385634   2.383406   0.103738    0.387873  ...    -0.321441   \n",
              "...         ...        ...        ...         ...  ...          ...   \n",
              "1111  -2.897007  -1.107453  -1.382568    0.128258  ...     0.511603   \n",
              "1112  -0.347281  -1.599028  -1.849923    0.872322  ...    -0.740028   \n",
              "1113  -0.396654  -1.317100  -1.162278   -0.174212  ...     1.119824   \n",
              "1114  -0.617443  -0.567237  -1.013448   -1.756144  ...     1.251905   \n",
              "1115  -0.912136  -1.444287  -2.053032   -1.237944  ...    -1.386605   \n",
              "\n",
              "      feature_312  feature_313  feature_314  feature_315  feature_316  \\\n",
              "0        1.587222    -1.522482    -3.935935     0.007990     0.668852   \n",
              "1        0.367323    -2.437823    -2.704050     1.696490    -0.471431   \n",
              "2        0.861753    -0.544255    -0.486401    -2.228478     0.964719   \n",
              "3       -0.121709    -1.838737    -0.405826     0.190536     0.651180   \n",
              "4        0.560821    -4.187195    -0.589926     0.104791     1.157607   \n",
              "...           ...          ...          ...          ...          ...   \n",
              "1111    -2.191810    -1.785794    -3.329948    -0.046203    -0.818496   \n",
              "1112    -0.669405     0.038592    -0.303483    -0.938461     0.503595   \n",
              "1113     0.116515     0.167950     0.541960     0.304160     1.813851   \n",
              "1114    -0.247511    -0.592460    -0.877069    -0.919258     1.034928   \n",
              "1115    -1.242449     0.137149     0.419821    -1.633390     1.074383   \n",
              "\n",
              "      feature_317  feature_318  feature_319  feature_320  \n",
              "0        1.129786     0.097900    -0.768619     0.271600  \n",
              "1        2.529153     1.107004    -3.214602    -1.450313  \n",
              "2       -0.297413    -0.623660    -0.208614     0.236617  \n",
              "3        0.539327    -0.103917    -3.094141     0.867695  \n",
              "4        1.382157    -0.184572    -2.582998     0.356301  \n",
              "...           ...          ...          ...          ...  \n",
              "1111    -2.515900     0.292273     0.122881     0.763220  \n",
              "1112     0.107434     1.579869    -1.386467     1.287389  \n",
              "1113    -0.044149    -0.324914    -1.845145     0.651195  \n",
              "1114     2.437233     0.763764    -1.013347     1.119919  \n",
              "1115    -2.169581    -0.450305    -0.292951    -1.008367  \n",
              "\n",
              "[1116 rows x 320 columns]"
            ]
          },
          "execution_count": 28,
          "metadata": {},
          "output_type": "execute_result"
        }
      ],
      "source": [
        "data"
      ]
    },
    {
      "cell_type": "code",
      "execution_count": 29,
      "metadata": {},
      "outputs": [],
      "source": [
        "from sklearn import preprocessing\n",
        "label_encoder = preprocessing.LabelEncoder()\n",
        "\n",
        "syndrome_ids = label_encoder.fit_transform(syndrome_ids)"
      ]
    },
    {
      "cell_type": "code",
      "execution_count": 30,
      "metadata": {
        "id": "a4RXYdyL1eUb"
      },
      "outputs": [],
      "source": [
        "data[\"syndrome\"] = syndrome_ids"
      ]
    },
    {
      "cell_type": "code",
      "execution_count": 31,
      "metadata": {
        "colab": {
          "base_uri": "https://localhost:8080/",
          "height": 444
        },
        "id": "y8iltBsr1_Hm",
        "outputId": "679b3060-e68f-40a1-cd48-6a7c62ea0177"
      },
      "outputs": [
        {
          "data": {
            "text/html": [
              "<div>\n",
              "<style scoped>\n",
              "    .dataframe tbody tr th:only-of-type {\n",
              "        vertical-align: middle;\n",
              "    }\n",
              "\n",
              "    .dataframe tbody tr th {\n",
              "        vertical-align: top;\n",
              "    }\n",
              "\n",
              "    .dataframe thead th {\n",
              "        text-align: right;\n",
              "    }\n",
              "</style>\n",
              "<table border=\"1\" class=\"dataframe\">\n",
              "  <thead>\n",
              "    <tr style=\"text-align: right;\">\n",
              "      <th></th>\n",
              "      <th>feature_1</th>\n",
              "      <th>feature_2</th>\n",
              "      <th>feature_3</th>\n",
              "      <th>feature_4</th>\n",
              "      <th>feature_5</th>\n",
              "      <th>feature_6</th>\n",
              "      <th>feature_7</th>\n",
              "      <th>feature_8</th>\n",
              "      <th>feature_9</th>\n",
              "      <th>feature_10</th>\n",
              "      <th>...</th>\n",
              "      <th>feature_312</th>\n",
              "      <th>feature_313</th>\n",
              "      <th>feature_314</th>\n",
              "      <th>feature_315</th>\n",
              "      <th>feature_316</th>\n",
              "      <th>feature_317</th>\n",
              "      <th>feature_318</th>\n",
              "      <th>feature_319</th>\n",
              "      <th>feature_320</th>\n",
              "      <th>syndrome</th>\n",
              "    </tr>\n",
              "  </thead>\n",
              "  <tbody>\n",
              "    <tr>\n",
              "      <th>0</th>\n",
              "      <td>-0.037180</td>\n",
              "      <td>1.741486</td>\n",
              "      <td>1.206103</td>\n",
              "      <td>-0.451453</td>\n",
              "      <td>-0.736373</td>\n",
              "      <td>1.705392</td>\n",
              "      <td>0.738040</td>\n",
              "      <td>1.027470</td>\n",
              "      <td>0.691436</td>\n",
              "      <td>-0.505316</td>\n",
              "      <td>...</td>\n",
              "      <td>1.587222</td>\n",
              "      <td>-1.522482</td>\n",
              "      <td>-3.935935</td>\n",
              "      <td>0.007990</td>\n",
              "      <td>0.668852</td>\n",
              "      <td>1.129786</td>\n",
              "      <td>0.097900</td>\n",
              "      <td>-0.768619</td>\n",
              "      <td>0.271600</td>\n",
              "      <td>8</td>\n",
              "    </tr>\n",
              "    <tr>\n",
              "      <th>1</th>\n",
              "      <td>2.424995</td>\n",
              "      <td>0.179920</td>\n",
              "      <td>2.950325</td>\n",
              "      <td>0.379930</td>\n",
              "      <td>-0.158152</td>\n",
              "      <td>-0.238334</td>\n",
              "      <td>-0.436916</td>\n",
              "      <td>1.179637</td>\n",
              "      <td>0.143056</td>\n",
              "      <td>1.888786</td>\n",
              "      <td>...</td>\n",
              "      <td>0.367323</td>\n",
              "      <td>-2.437823</td>\n",
              "      <td>-2.704050</td>\n",
              "      <td>1.696490</td>\n",
              "      <td>-0.471431</td>\n",
              "      <td>2.529153</td>\n",
              "      <td>1.107004</td>\n",
              "      <td>-3.214602</td>\n",
              "      <td>-1.450313</td>\n",
              "      <td>8</td>\n",
              "    </tr>\n",
              "    <tr>\n",
              "      <th>2</th>\n",
              "      <td>-1.789331</td>\n",
              "      <td>-0.216211</td>\n",
              "      <td>0.434315</td>\n",
              "      <td>-0.552323</td>\n",
              "      <td>-1.065345</td>\n",
              "      <td>1.817165</td>\n",
              "      <td>0.006342</td>\n",
              "      <td>0.568629</td>\n",
              "      <td>-1.739190</td>\n",
              "      <td>-1.749137</td>\n",
              "      <td>...</td>\n",
              "      <td>0.861753</td>\n",
              "      <td>-0.544255</td>\n",
              "      <td>-0.486401</td>\n",
              "      <td>-2.228478</td>\n",
              "      <td>0.964719</td>\n",
              "      <td>-0.297413</td>\n",
              "      <td>-0.623660</td>\n",
              "      <td>-0.208614</td>\n",
              "      <td>0.236617</td>\n",
              "      <td>8</td>\n",
              "    </tr>\n",
              "    <tr>\n",
              "      <th>3</th>\n",
              "      <td>-1.143693</td>\n",
              "      <td>-0.714621</td>\n",
              "      <td>0.319488</td>\n",
              "      <td>0.455682</td>\n",
              "      <td>1.571120</td>\n",
              "      <td>-0.837411</td>\n",
              "      <td>0.726402</td>\n",
              "      <td>0.818733</td>\n",
              "      <td>-1.069280</td>\n",
              "      <td>-0.101228</td>\n",
              "      <td>...</td>\n",
              "      <td>-0.121709</td>\n",
              "      <td>-1.838737</td>\n",
              "      <td>-0.405826</td>\n",
              "      <td>0.190536</td>\n",
              "      <td>0.651180</td>\n",
              "      <td>0.539327</td>\n",
              "      <td>-0.103917</td>\n",
              "      <td>-3.094141</td>\n",
              "      <td>0.867695</td>\n",
              "      <td>8</td>\n",
              "    </tr>\n",
              "    <tr>\n",
              "      <th>4</th>\n",
              "      <td>0.814171</td>\n",
              "      <td>1.327491</td>\n",
              "      <td>0.847285</td>\n",
              "      <td>-0.212331</td>\n",
              "      <td>-0.161848</td>\n",
              "      <td>0.468158</td>\n",
              "      <td>-1.385634</td>\n",
              "      <td>2.383406</td>\n",
              "      <td>0.103738</td>\n",
              "      <td>0.387873</td>\n",
              "      <td>...</td>\n",
              "      <td>0.560821</td>\n",
              "      <td>-4.187195</td>\n",
              "      <td>-0.589926</td>\n",
              "      <td>0.104791</td>\n",
              "      <td>1.157607</td>\n",
              "      <td>1.382157</td>\n",
              "      <td>-0.184572</td>\n",
              "      <td>-2.582998</td>\n",
              "      <td>0.356301</td>\n",
              "      <td>8</td>\n",
              "    </tr>\n",
              "    <tr>\n",
              "      <th>...</th>\n",
              "      <td>...</td>\n",
              "      <td>...</td>\n",
              "      <td>...</td>\n",
              "      <td>...</td>\n",
              "      <td>...</td>\n",
              "      <td>...</td>\n",
              "      <td>...</td>\n",
              "      <td>...</td>\n",
              "      <td>...</td>\n",
              "      <td>...</td>\n",
              "      <td>...</td>\n",
              "      <td>...</td>\n",
              "      <td>...</td>\n",
              "      <td>...</td>\n",
              "      <td>...</td>\n",
              "      <td>...</td>\n",
              "      <td>...</td>\n",
              "      <td>...</td>\n",
              "      <td>...</td>\n",
              "      <td>...</td>\n",
              "      <td>...</td>\n",
              "    </tr>\n",
              "    <tr>\n",
              "      <th>1111</th>\n",
              "      <td>0.874891</td>\n",
              "      <td>2.436136</td>\n",
              "      <td>-1.788354</td>\n",
              "      <td>0.012363</td>\n",
              "      <td>-0.126630</td>\n",
              "      <td>0.017039</td>\n",
              "      <td>-2.897007</td>\n",
              "      <td>-1.107453</td>\n",
              "      <td>-1.382568</td>\n",
              "      <td>0.128258</td>\n",
              "      <td>...</td>\n",
              "      <td>-2.191810</td>\n",
              "      <td>-1.785794</td>\n",
              "      <td>-3.329948</td>\n",
              "      <td>-0.046203</td>\n",
              "      <td>-0.818496</td>\n",
              "      <td>-2.515900</td>\n",
              "      <td>0.292273</td>\n",
              "      <td>0.122881</td>\n",
              "      <td>0.763220</td>\n",
              "      <td>4</td>\n",
              "    </tr>\n",
              "    <tr>\n",
              "      <th>1112</th>\n",
              "      <td>0.724611</td>\n",
              "      <td>-0.393636</td>\n",
              "      <td>1.649150</td>\n",
              "      <td>1.141051</td>\n",
              "      <td>0.140459</td>\n",
              "      <td>-0.963627</td>\n",
              "      <td>-0.347281</td>\n",
              "      <td>-1.599028</td>\n",
              "      <td>-1.849923</td>\n",
              "      <td>0.872322</td>\n",
              "      <td>...</td>\n",
              "      <td>-0.669405</td>\n",
              "      <td>0.038592</td>\n",
              "      <td>-0.303483</td>\n",
              "      <td>-0.938461</td>\n",
              "      <td>0.503595</td>\n",
              "      <td>0.107434</td>\n",
              "      <td>1.579869</td>\n",
              "      <td>-1.386467</td>\n",
              "      <td>1.287389</td>\n",
              "      <td>4</td>\n",
              "    </tr>\n",
              "    <tr>\n",
              "      <th>1113</th>\n",
              "      <td>-1.524169</td>\n",
              "      <td>-1.470528</td>\n",
              "      <td>0.596739</td>\n",
              "      <td>1.236262</td>\n",
              "      <td>-0.269673</td>\n",
              "      <td>-1.351564</td>\n",
              "      <td>-0.396654</td>\n",
              "      <td>-1.317100</td>\n",
              "      <td>-1.162278</td>\n",
              "      <td>-0.174212</td>\n",
              "      <td>...</td>\n",
              "      <td>0.116515</td>\n",
              "      <td>0.167950</td>\n",
              "      <td>0.541960</td>\n",
              "      <td>0.304160</td>\n",
              "      <td>1.813851</td>\n",
              "      <td>-0.044149</td>\n",
              "      <td>-0.324914</td>\n",
              "      <td>-1.845145</td>\n",
              "      <td>0.651195</td>\n",
              "      <td>4</td>\n",
              "    </tr>\n",
              "    <tr>\n",
              "      <th>1114</th>\n",
              "      <td>-0.275315</td>\n",
              "      <td>-1.003529</td>\n",
              "      <td>0.848324</td>\n",
              "      <td>-0.254561</td>\n",
              "      <td>-0.334891</td>\n",
              "      <td>-0.977900</td>\n",
              "      <td>-0.617443</td>\n",
              "      <td>-0.567237</td>\n",
              "      <td>-1.013448</td>\n",
              "      <td>-1.756144</td>\n",
              "      <td>...</td>\n",
              "      <td>-0.247511</td>\n",
              "      <td>-0.592460</td>\n",
              "      <td>-0.877069</td>\n",
              "      <td>-0.919258</td>\n",
              "      <td>1.034928</td>\n",
              "      <td>2.437233</td>\n",
              "      <td>0.763764</td>\n",
              "      <td>-1.013347</td>\n",
              "      <td>1.119919</td>\n",
              "      <td>4</td>\n",
              "    </tr>\n",
              "    <tr>\n",
              "      <th>1115</th>\n",
              "      <td>-1.152734</td>\n",
              "      <td>-1.401169</td>\n",
              "      <td>-0.669902</td>\n",
              "      <td>-0.278648</td>\n",
              "      <td>-1.754148</td>\n",
              "      <td>-0.119295</td>\n",
              "      <td>-0.912136</td>\n",
              "      <td>-1.444287</td>\n",
              "      <td>-2.053032</td>\n",
              "      <td>-1.237944</td>\n",
              "      <td>...</td>\n",
              "      <td>-1.242449</td>\n",
              "      <td>0.137149</td>\n",
              "      <td>0.419821</td>\n",
              "      <td>-1.633390</td>\n",
              "      <td>1.074383</td>\n",
              "      <td>-2.169581</td>\n",
              "      <td>-0.450305</td>\n",
              "      <td>-0.292951</td>\n",
              "      <td>-1.008367</td>\n",
              "      <td>4</td>\n",
              "    </tr>\n",
              "  </tbody>\n",
              "</table>\n",
              "<p>1116 rows × 321 columns</p>\n",
              "</div>"
            ],
            "text/plain": [
              "      feature_1  feature_2  feature_3  feature_4  feature_5  feature_6  \\\n",
              "0     -0.037180   1.741486   1.206103  -0.451453  -0.736373   1.705392   \n",
              "1      2.424995   0.179920   2.950325   0.379930  -0.158152  -0.238334   \n",
              "2     -1.789331  -0.216211   0.434315  -0.552323  -1.065345   1.817165   \n",
              "3     -1.143693  -0.714621   0.319488   0.455682   1.571120  -0.837411   \n",
              "4      0.814171   1.327491   0.847285  -0.212331  -0.161848   0.468158   \n",
              "...         ...        ...        ...        ...        ...        ...   \n",
              "1111   0.874891   2.436136  -1.788354   0.012363  -0.126630   0.017039   \n",
              "1112   0.724611  -0.393636   1.649150   1.141051   0.140459  -0.963627   \n",
              "1113  -1.524169  -1.470528   0.596739   1.236262  -0.269673  -1.351564   \n",
              "1114  -0.275315  -1.003529   0.848324  -0.254561  -0.334891  -0.977900   \n",
              "1115  -1.152734  -1.401169  -0.669902  -0.278648  -1.754148  -0.119295   \n",
              "\n",
              "      feature_7  feature_8  feature_9  feature_10  ...  feature_312  \\\n",
              "0      0.738040   1.027470   0.691436   -0.505316  ...     1.587222   \n",
              "1     -0.436916   1.179637   0.143056    1.888786  ...     0.367323   \n",
              "2      0.006342   0.568629  -1.739190   -1.749137  ...     0.861753   \n",
              "3      0.726402   0.818733  -1.069280   -0.101228  ...    -0.121709   \n",
              "4     -1.385634   2.383406   0.103738    0.387873  ...     0.560821   \n",
              "...         ...        ...        ...         ...  ...          ...   \n",
              "1111  -2.897007  -1.107453  -1.382568    0.128258  ...    -2.191810   \n",
              "1112  -0.347281  -1.599028  -1.849923    0.872322  ...    -0.669405   \n",
              "1113  -0.396654  -1.317100  -1.162278   -0.174212  ...     0.116515   \n",
              "1114  -0.617443  -0.567237  -1.013448   -1.756144  ...    -0.247511   \n",
              "1115  -0.912136  -1.444287  -2.053032   -1.237944  ...    -1.242449   \n",
              "\n",
              "      feature_313  feature_314  feature_315  feature_316  feature_317  \\\n",
              "0       -1.522482    -3.935935     0.007990     0.668852     1.129786   \n",
              "1       -2.437823    -2.704050     1.696490    -0.471431     2.529153   \n",
              "2       -0.544255    -0.486401    -2.228478     0.964719    -0.297413   \n",
              "3       -1.838737    -0.405826     0.190536     0.651180     0.539327   \n",
              "4       -4.187195    -0.589926     0.104791     1.157607     1.382157   \n",
              "...           ...          ...          ...          ...          ...   \n",
              "1111    -1.785794    -3.329948    -0.046203    -0.818496    -2.515900   \n",
              "1112     0.038592    -0.303483    -0.938461     0.503595     0.107434   \n",
              "1113     0.167950     0.541960     0.304160     1.813851    -0.044149   \n",
              "1114    -0.592460    -0.877069    -0.919258     1.034928     2.437233   \n",
              "1115     0.137149     0.419821    -1.633390     1.074383    -2.169581   \n",
              "\n",
              "      feature_318  feature_319  feature_320  syndrome  \n",
              "0        0.097900    -0.768619     0.271600         8  \n",
              "1        1.107004    -3.214602    -1.450313         8  \n",
              "2       -0.623660    -0.208614     0.236617         8  \n",
              "3       -0.103917    -3.094141     0.867695         8  \n",
              "4       -0.184572    -2.582998     0.356301         8  \n",
              "...           ...          ...          ...       ...  \n",
              "1111     0.292273     0.122881     0.763220         4  \n",
              "1112     1.579869    -1.386467     1.287389         4  \n",
              "1113    -0.324914    -1.845145     0.651195         4  \n",
              "1114     0.763764    -1.013347     1.119919         4  \n",
              "1115    -0.450305    -0.292951    -1.008367         4  \n",
              "\n",
              "[1116 rows x 321 columns]"
            ]
          },
          "execution_count": 31,
          "metadata": {},
          "output_type": "execute_result"
        }
      ],
      "source": [
        "data"
      ]
    },
    {
      "cell_type": "code",
      "execution_count": 32,
      "metadata": {},
      "outputs": [],
      "source": [
        "X = data.drop('syndrome', axis=1).values # X = df.drop(\"syndrome\", axis=1).values\n",
        "y = data['syndrome']"
      ]
    },
    {
      "cell_type": "code",
      "execution_count": 33,
      "metadata": {},
      "outputs": [
        {
          "data": {
            "text/plain": [
              "array([8, 7, 9, 3, 0, 5, 1, 6, 2, 4])"
            ]
          },
          "execution_count": 33,
          "metadata": {},
          "output_type": "execute_result"
        }
      ],
      "source": [
        "# All possible variables, syndromes id\n",
        "y.unique()"
      ]
    },
    {
      "cell_type": "code",
      "execution_count": 34,
      "metadata": {},
      "outputs": [
        {
          "name": "stdout",
          "output_type": "stream",
          "text": [
            "(1116, 320)\n",
            "(1116,)\n"
          ]
        }
      ],
      "source": [
        "print(X.shape)\n",
        "print(y.shape)"
      ]
    },
    {
      "cell_type": "code",
      "execution_count": 35,
      "metadata": {},
      "outputs": [],
      "source": [
        "from sklearn.model_selection import GridSearchCV, train_test_split\n",
        "from sklearn.metrics import classification_report, confusion_matrix, roc_curve, roc_auc_score,auc\n",
        "from sklearn.preprocessing import StandardScaler\n",
        "from sklearn.multiclass import OneVsRestClassifier\n",
        "from sklearn import metrics"
      ]
    },
    {
      "cell_type": "code",
      "execution_count": 36,
      "metadata": {},
      "outputs": [],
      "source": [
        "from sklearn.neighbors import KNeighborsClassifier\n",
        "knn_cosine = KNeighborsClassifier(metric='cosine')\n",
        "\n",
        "#knn_cosine.fit(X_train, y_train)"
      ]
    },
    {
      "cell_type": "code",
      "execution_count": 37,
      "metadata": {},
      "outputs": [],
      "source": [
        "k_range = list(range(1, 50))"
      ]
    },
    {
      "cell_type": "code",
      "execution_count": 38,
      "metadata": {},
      "outputs": [
        {
          "name": "stdout",
          "output_type": "stream",
          "text": [
            "{'n_neighbors': [1, 2, 3, 4, 5, 6, 7, 8, 9, 10, 11, 12, 13, 14, 15, 16, 17, 18, 19, 20, 21, 22, 23, 24, 25, 26, 27, 28, 29, 30, 31, 32, 33, 34, 35, 36, 37, 38, 39, 40, 41, 42, 43, 44, 45, 46, 47, 48, 49]}\n"
          ]
        }
      ],
      "source": [
        "param_grid = dict(n_neighbors=k_range)\n",
        "print(param_grid)"
      ]
    },
    {
      "cell_type": "code",
      "execution_count": 39,
      "metadata": {},
      "outputs": [
        {
          "data": {
            "text/html": [
              "<style>#sk-container-id-1 {\n",
              "  /* Definition of color scheme common for light and dark mode */\n",
              "  --sklearn-color-text: black;\n",
              "  --sklearn-color-line: gray;\n",
              "  /* Definition of color scheme for unfitted estimators */\n",
              "  --sklearn-color-unfitted-level-0: #fff5e6;\n",
              "  --sklearn-color-unfitted-level-1: #f6e4d2;\n",
              "  --sklearn-color-unfitted-level-2: #ffe0b3;\n",
              "  --sklearn-color-unfitted-level-3: chocolate;\n",
              "  /* Definition of color scheme for fitted estimators */\n",
              "  --sklearn-color-fitted-level-0: #f0f8ff;\n",
              "  --sklearn-color-fitted-level-1: #d4ebff;\n",
              "  --sklearn-color-fitted-level-2: #b3dbfd;\n",
              "  --sklearn-color-fitted-level-3: cornflowerblue;\n",
              "\n",
              "  /* Specific color for light theme */\n",
              "  --sklearn-color-text-on-default-background: var(--sg-text-color, var(--theme-code-foreground, var(--jp-content-font-color1, black)));\n",
              "  --sklearn-color-background: var(--sg-background-color, var(--theme-background, var(--jp-layout-color0, white)));\n",
              "  --sklearn-color-border-box: var(--sg-text-color, var(--theme-code-foreground, var(--jp-content-font-color1, black)));\n",
              "  --sklearn-color-icon: #696969;\n",
              "\n",
              "  @media (prefers-color-scheme: dark) {\n",
              "    /* Redefinition of color scheme for dark theme */\n",
              "    --sklearn-color-text-on-default-background: var(--sg-text-color, var(--theme-code-foreground, var(--jp-content-font-color1, white)));\n",
              "    --sklearn-color-background: var(--sg-background-color, var(--theme-background, var(--jp-layout-color0, #111)));\n",
              "    --sklearn-color-border-box: var(--sg-text-color, var(--theme-code-foreground, var(--jp-content-font-color1, white)));\n",
              "    --sklearn-color-icon: #878787;\n",
              "  }\n",
              "}\n",
              "\n",
              "#sk-container-id-1 {\n",
              "  color: var(--sklearn-color-text);\n",
              "}\n",
              "\n",
              "#sk-container-id-1 pre {\n",
              "  padding: 0;\n",
              "}\n",
              "\n",
              "#sk-container-id-1 input.sk-hidden--visually {\n",
              "  border: 0;\n",
              "  clip: rect(1px 1px 1px 1px);\n",
              "  clip: rect(1px, 1px, 1px, 1px);\n",
              "  height: 1px;\n",
              "  margin: -1px;\n",
              "  overflow: hidden;\n",
              "  padding: 0;\n",
              "  position: absolute;\n",
              "  width: 1px;\n",
              "}\n",
              "\n",
              "#sk-container-id-1 div.sk-dashed-wrapped {\n",
              "  border: 1px dashed var(--sklearn-color-line);\n",
              "  margin: 0 0.4em 0.5em 0.4em;\n",
              "  box-sizing: border-box;\n",
              "  padding-bottom: 0.4em;\n",
              "  background-color: var(--sklearn-color-background);\n",
              "}\n",
              "\n",
              "#sk-container-id-1 div.sk-container {\n",
              "  /* jupyter's `normalize.less` sets `[hidden] { display: none; }`\n",
              "     but bootstrap.min.css set `[hidden] { display: none !important; }`\n",
              "     so we also need the `!important` here to be able to override the\n",
              "     default hidden behavior on the sphinx rendered scikit-learn.org.\n",
              "     See: https://github.com/scikit-learn/scikit-learn/issues/21755 */\n",
              "  display: inline-block !important;\n",
              "  position: relative;\n",
              "}\n",
              "\n",
              "#sk-container-id-1 div.sk-text-repr-fallback {\n",
              "  display: none;\n",
              "}\n",
              "\n",
              "div.sk-parallel-item,\n",
              "div.sk-serial,\n",
              "div.sk-item {\n",
              "  /* draw centered vertical line to link estimators */\n",
              "  background-image: linear-gradient(var(--sklearn-color-text-on-default-background), var(--sklearn-color-text-on-default-background));\n",
              "  background-size: 2px 100%;\n",
              "  background-repeat: no-repeat;\n",
              "  background-position: center center;\n",
              "}\n",
              "\n",
              "/* Parallel-specific style estimator block */\n",
              "\n",
              "#sk-container-id-1 div.sk-parallel-item::after {\n",
              "  content: \"\";\n",
              "  width: 100%;\n",
              "  border-bottom: 2px solid var(--sklearn-color-text-on-default-background);\n",
              "  flex-grow: 1;\n",
              "}\n",
              "\n",
              "#sk-container-id-1 div.sk-parallel {\n",
              "  display: flex;\n",
              "  align-items: stretch;\n",
              "  justify-content: center;\n",
              "  background-color: var(--sklearn-color-background);\n",
              "  position: relative;\n",
              "}\n",
              "\n",
              "#sk-container-id-1 div.sk-parallel-item {\n",
              "  display: flex;\n",
              "  flex-direction: column;\n",
              "}\n",
              "\n",
              "#sk-container-id-1 div.sk-parallel-item:first-child::after {\n",
              "  align-self: flex-end;\n",
              "  width: 50%;\n",
              "}\n",
              "\n",
              "#sk-container-id-1 div.sk-parallel-item:last-child::after {\n",
              "  align-self: flex-start;\n",
              "  width: 50%;\n",
              "}\n",
              "\n",
              "#sk-container-id-1 div.sk-parallel-item:only-child::after {\n",
              "  width: 0;\n",
              "}\n",
              "\n",
              "/* Serial-specific style estimator block */\n",
              "\n",
              "#sk-container-id-1 div.sk-serial {\n",
              "  display: flex;\n",
              "  flex-direction: column;\n",
              "  align-items: center;\n",
              "  background-color: var(--sklearn-color-background);\n",
              "  padding-right: 1em;\n",
              "  padding-left: 1em;\n",
              "}\n",
              "\n",
              "\n",
              "/* Toggleable style: style used for estimator/Pipeline/ColumnTransformer box that is\n",
              "clickable and can be expanded/collapsed.\n",
              "- Pipeline and ColumnTransformer use this feature and define the default style\n",
              "- Estimators will overwrite some part of the style using the `sk-estimator` class\n",
              "*/\n",
              "\n",
              "/* Pipeline and ColumnTransformer style (default) */\n",
              "\n",
              "#sk-container-id-1 div.sk-toggleable {\n",
              "  /* Default theme specific background. It is overwritten whether we have a\n",
              "  specific estimator or a Pipeline/ColumnTransformer */\n",
              "  background-color: var(--sklearn-color-background);\n",
              "}\n",
              "\n",
              "/* Toggleable label */\n",
              "#sk-container-id-1 label.sk-toggleable__label {\n",
              "  cursor: pointer;\n",
              "  display: block;\n",
              "  width: 100%;\n",
              "  margin-bottom: 0;\n",
              "  padding: 0.5em;\n",
              "  box-sizing: border-box;\n",
              "  text-align: center;\n",
              "}\n",
              "\n",
              "#sk-container-id-1 label.sk-toggleable__label-arrow:before {\n",
              "  /* Arrow on the left of the label */\n",
              "  content: \"▸\";\n",
              "  float: left;\n",
              "  margin-right: 0.25em;\n",
              "  color: var(--sklearn-color-icon);\n",
              "}\n",
              "\n",
              "#sk-container-id-1 label.sk-toggleable__label-arrow:hover:before {\n",
              "  color: var(--sklearn-color-text);\n",
              "}\n",
              "\n",
              "/* Toggleable content - dropdown */\n",
              "\n",
              "#sk-container-id-1 div.sk-toggleable__content {\n",
              "  max-height: 0;\n",
              "  max-width: 0;\n",
              "  overflow: hidden;\n",
              "  text-align: left;\n",
              "  /* unfitted */\n",
              "  background-color: var(--sklearn-color-unfitted-level-0);\n",
              "}\n",
              "\n",
              "#sk-container-id-1 div.sk-toggleable__content.fitted {\n",
              "  /* fitted */\n",
              "  background-color: var(--sklearn-color-fitted-level-0);\n",
              "}\n",
              "\n",
              "#sk-container-id-1 div.sk-toggleable__content pre {\n",
              "  margin: 0.2em;\n",
              "  border-radius: 0.25em;\n",
              "  color: var(--sklearn-color-text);\n",
              "  /* unfitted */\n",
              "  background-color: var(--sklearn-color-unfitted-level-0);\n",
              "}\n",
              "\n",
              "#sk-container-id-1 div.sk-toggleable__content.fitted pre {\n",
              "  /* unfitted */\n",
              "  background-color: var(--sklearn-color-fitted-level-0);\n",
              "}\n",
              "\n",
              "#sk-container-id-1 input.sk-toggleable__control:checked~div.sk-toggleable__content {\n",
              "  /* Expand drop-down */\n",
              "  max-height: 200px;\n",
              "  max-width: 100%;\n",
              "  overflow: auto;\n",
              "}\n",
              "\n",
              "#sk-container-id-1 input.sk-toggleable__control:checked~label.sk-toggleable__label-arrow:before {\n",
              "  content: \"▾\";\n",
              "}\n",
              "\n",
              "/* Pipeline/ColumnTransformer-specific style */\n",
              "\n",
              "#sk-container-id-1 div.sk-label input.sk-toggleable__control:checked~label.sk-toggleable__label {\n",
              "  color: var(--sklearn-color-text);\n",
              "  background-color: var(--sklearn-color-unfitted-level-2);\n",
              "}\n",
              "\n",
              "#sk-container-id-1 div.sk-label.fitted input.sk-toggleable__control:checked~label.sk-toggleable__label {\n",
              "  background-color: var(--sklearn-color-fitted-level-2);\n",
              "}\n",
              "\n",
              "/* Estimator-specific style */\n",
              "\n",
              "/* Colorize estimator box */\n",
              "#sk-container-id-1 div.sk-estimator input.sk-toggleable__control:checked~label.sk-toggleable__label {\n",
              "  /* unfitted */\n",
              "  background-color: var(--sklearn-color-unfitted-level-2);\n",
              "}\n",
              "\n",
              "#sk-container-id-1 div.sk-estimator.fitted input.sk-toggleable__control:checked~label.sk-toggleable__label {\n",
              "  /* fitted */\n",
              "  background-color: var(--sklearn-color-fitted-level-2);\n",
              "}\n",
              "\n",
              "#sk-container-id-1 div.sk-label label.sk-toggleable__label,\n",
              "#sk-container-id-1 div.sk-label label {\n",
              "  /* The background is the default theme color */\n",
              "  color: var(--sklearn-color-text-on-default-background);\n",
              "}\n",
              "\n",
              "/* On hover, darken the color of the background */\n",
              "#sk-container-id-1 div.sk-label:hover label.sk-toggleable__label {\n",
              "  color: var(--sklearn-color-text);\n",
              "  background-color: var(--sklearn-color-unfitted-level-2);\n",
              "}\n",
              "\n",
              "/* Label box, darken color on hover, fitted */\n",
              "#sk-container-id-1 div.sk-label.fitted:hover label.sk-toggleable__label.fitted {\n",
              "  color: var(--sklearn-color-text);\n",
              "  background-color: var(--sklearn-color-fitted-level-2);\n",
              "}\n",
              "\n",
              "/* Estimator label */\n",
              "\n",
              "#sk-container-id-1 div.sk-label label {\n",
              "  font-family: monospace;\n",
              "  font-weight: bold;\n",
              "  display: inline-block;\n",
              "  line-height: 1.2em;\n",
              "}\n",
              "\n",
              "#sk-container-id-1 div.sk-label-container {\n",
              "  text-align: center;\n",
              "}\n",
              "\n",
              "/* Estimator-specific */\n",
              "#sk-container-id-1 div.sk-estimator {\n",
              "  font-family: monospace;\n",
              "  border: 1px dotted var(--sklearn-color-border-box);\n",
              "  border-radius: 0.25em;\n",
              "  box-sizing: border-box;\n",
              "  margin-bottom: 0.5em;\n",
              "  /* unfitted */\n",
              "  background-color: var(--sklearn-color-unfitted-level-0);\n",
              "}\n",
              "\n",
              "#sk-container-id-1 div.sk-estimator.fitted {\n",
              "  /* fitted */\n",
              "  background-color: var(--sklearn-color-fitted-level-0);\n",
              "}\n",
              "\n",
              "/* on hover */\n",
              "#sk-container-id-1 div.sk-estimator:hover {\n",
              "  /* unfitted */\n",
              "  background-color: var(--sklearn-color-unfitted-level-2);\n",
              "}\n",
              "\n",
              "#sk-container-id-1 div.sk-estimator.fitted:hover {\n",
              "  /* fitted */\n",
              "  background-color: var(--sklearn-color-fitted-level-2);\n",
              "}\n",
              "\n",
              "/* Specification for estimator info (e.g. \"i\" and \"?\") */\n",
              "\n",
              "/* Common style for \"i\" and \"?\" */\n",
              "\n",
              ".sk-estimator-doc-link,\n",
              "a:link.sk-estimator-doc-link,\n",
              "a:visited.sk-estimator-doc-link {\n",
              "  float: right;\n",
              "  font-size: smaller;\n",
              "  line-height: 1em;\n",
              "  font-family: monospace;\n",
              "  background-color: var(--sklearn-color-background);\n",
              "  border-radius: 1em;\n",
              "  height: 1em;\n",
              "  width: 1em;\n",
              "  text-decoration: none !important;\n",
              "  margin-left: 1ex;\n",
              "  /* unfitted */\n",
              "  border: var(--sklearn-color-unfitted-level-1) 1pt solid;\n",
              "  color: var(--sklearn-color-unfitted-level-1);\n",
              "}\n",
              "\n",
              ".sk-estimator-doc-link.fitted,\n",
              "a:link.sk-estimator-doc-link.fitted,\n",
              "a:visited.sk-estimator-doc-link.fitted {\n",
              "  /* fitted */\n",
              "  border: var(--sklearn-color-fitted-level-1) 1pt solid;\n",
              "  color: var(--sklearn-color-fitted-level-1);\n",
              "}\n",
              "\n",
              "/* On hover */\n",
              "div.sk-estimator:hover .sk-estimator-doc-link:hover,\n",
              ".sk-estimator-doc-link:hover,\n",
              "div.sk-label-container:hover .sk-estimator-doc-link:hover,\n",
              ".sk-estimator-doc-link:hover {\n",
              "  /* unfitted */\n",
              "  background-color: var(--sklearn-color-unfitted-level-3);\n",
              "  color: var(--sklearn-color-background);\n",
              "  text-decoration: none;\n",
              "}\n",
              "\n",
              "div.sk-estimator.fitted:hover .sk-estimator-doc-link.fitted:hover,\n",
              ".sk-estimator-doc-link.fitted:hover,\n",
              "div.sk-label-container:hover .sk-estimator-doc-link.fitted:hover,\n",
              ".sk-estimator-doc-link.fitted:hover {\n",
              "  /* fitted */\n",
              "  background-color: var(--sklearn-color-fitted-level-3);\n",
              "  color: var(--sklearn-color-background);\n",
              "  text-decoration: none;\n",
              "}\n",
              "\n",
              "/* Span, style for the box shown on hovering the info icon */\n",
              ".sk-estimator-doc-link span {\n",
              "  display: none;\n",
              "  z-index: 9999;\n",
              "  position: relative;\n",
              "  font-weight: normal;\n",
              "  right: .2ex;\n",
              "  padding: .5ex;\n",
              "  margin: .5ex;\n",
              "  width: min-content;\n",
              "  min-width: 20ex;\n",
              "  max-width: 50ex;\n",
              "  color: var(--sklearn-color-text);\n",
              "  box-shadow: 2pt 2pt 4pt #999;\n",
              "  /* unfitted */\n",
              "  background: var(--sklearn-color-unfitted-level-0);\n",
              "  border: .5pt solid var(--sklearn-color-unfitted-level-3);\n",
              "}\n",
              "\n",
              ".sk-estimator-doc-link.fitted span {\n",
              "  /* fitted */\n",
              "  background: var(--sklearn-color-fitted-level-0);\n",
              "  border: var(--sklearn-color-fitted-level-3);\n",
              "}\n",
              "\n",
              ".sk-estimator-doc-link:hover span {\n",
              "  display: block;\n",
              "}\n",
              "\n",
              "/* \"?\"-specific style due to the `<a>` HTML tag */\n",
              "\n",
              "#sk-container-id-1 a.estimator_doc_link {\n",
              "  float: right;\n",
              "  font-size: 1rem;\n",
              "  line-height: 1em;\n",
              "  font-family: monospace;\n",
              "  background-color: var(--sklearn-color-background);\n",
              "  border-radius: 1rem;\n",
              "  height: 1rem;\n",
              "  width: 1rem;\n",
              "  text-decoration: none;\n",
              "  /* unfitted */\n",
              "  color: var(--sklearn-color-unfitted-level-1);\n",
              "  border: var(--sklearn-color-unfitted-level-1) 1pt solid;\n",
              "}\n",
              "\n",
              "#sk-container-id-1 a.estimator_doc_link.fitted {\n",
              "  /* fitted */\n",
              "  border: var(--sklearn-color-fitted-level-1) 1pt solid;\n",
              "  color: var(--sklearn-color-fitted-level-1);\n",
              "}\n",
              "\n",
              "/* On hover */\n",
              "#sk-container-id-1 a.estimator_doc_link:hover {\n",
              "  /* unfitted */\n",
              "  background-color: var(--sklearn-color-unfitted-level-3);\n",
              "  color: var(--sklearn-color-background);\n",
              "  text-decoration: none;\n",
              "}\n",
              "\n",
              "#sk-container-id-1 a.estimator_doc_link.fitted:hover {\n",
              "  /* fitted */\n",
              "  background-color: var(--sklearn-color-fitted-level-3);\n",
              "}\n",
              "</style><div id=\"sk-container-id-1\" class=\"sk-top-container\"><div class=\"sk-text-repr-fallback\"><pre>GridSearchCV(cv=10, estimator=KNeighborsClassifier(metric=&#x27;cosine&#x27;),\n",
              "             param_grid={&#x27;n_neighbors&#x27;: [1, 2, 3, 4, 5, 6, 7, 8, 9, 10, 11, 12,\n",
              "                                         13, 14, 15, 16, 17, 18, 19, 20, 21, 22,\n",
              "                                         23, 24, 25, 26, 27, 28, 29, 30, ...]})</pre><b>In a Jupyter environment, please rerun this cell to show the HTML representation or trust the notebook. <br />On GitHub, the HTML representation is unable to render, please try loading this page with nbviewer.org.</b></div><div class=\"sk-container\" hidden><div class=\"sk-item sk-dashed-wrapped\"><div class=\"sk-label-container\"><div class=\"sk-label fitted sk-toggleable\"><input class=\"sk-toggleable__control sk-hidden--visually\" id=\"sk-estimator-id-1\" type=\"checkbox\" ><label for=\"sk-estimator-id-1\" class=\"sk-toggleable__label fitted sk-toggleable__label-arrow fitted\">&nbsp;&nbsp;GridSearchCV<a class=\"sk-estimator-doc-link fitted\" rel=\"noreferrer\" target=\"_blank\" href=\"https://scikit-learn.org/1.4/modules/generated/sklearn.model_selection.GridSearchCV.html\">?<span>Documentation for GridSearchCV</span></a><span class=\"sk-estimator-doc-link fitted\">i<span>Fitted</span></span></label><div class=\"sk-toggleable__content fitted\"><pre>GridSearchCV(cv=10, estimator=KNeighborsClassifier(metric=&#x27;cosine&#x27;),\n",
              "             param_grid={&#x27;n_neighbors&#x27;: [1, 2, 3, 4, 5, 6, 7, 8, 9, 10, 11, 12,\n",
              "                                         13, 14, 15, 16, 17, 18, 19, 20, 21, 22,\n",
              "                                         23, 24, 25, 26, 27, 28, 29, 30, ...]})</pre></div> </div></div><div class=\"sk-parallel\"><div class=\"sk-parallel-item\"><div class=\"sk-item\"><div class=\"sk-label-container\"><div class=\"sk-label fitted sk-toggleable\"><input class=\"sk-toggleable__control sk-hidden--visually\" id=\"sk-estimator-id-2\" type=\"checkbox\" ><label for=\"sk-estimator-id-2\" class=\"sk-toggleable__label fitted sk-toggleable__label-arrow fitted\">estimator: KNeighborsClassifier</label><div class=\"sk-toggleable__content fitted\"><pre>KNeighborsClassifier(metric=&#x27;cosine&#x27;)</pre></div> </div></div><div class=\"sk-serial\"><div class=\"sk-item\"><div class=\"sk-estimator fitted sk-toggleable\"><input class=\"sk-toggleable__control sk-hidden--visually\" id=\"sk-estimator-id-3\" type=\"checkbox\" ><label for=\"sk-estimator-id-3\" class=\"sk-toggleable__label fitted sk-toggleable__label-arrow fitted\">&nbsp;KNeighborsClassifier<a class=\"sk-estimator-doc-link fitted\" rel=\"noreferrer\" target=\"_blank\" href=\"https://scikit-learn.org/1.4/modules/generated/sklearn.neighbors.KNeighborsClassifier.html\">?<span>Documentation for KNeighborsClassifier</span></a></label><div class=\"sk-toggleable__content fitted\"><pre>KNeighborsClassifier(metric=&#x27;cosine&#x27;)</pre></div> </div></div></div></div></div></div></div></div></div>"
            ],
            "text/plain": [
              "GridSearchCV(cv=10, estimator=KNeighborsClassifier(metric='cosine'),\n",
              "             param_grid={'n_neighbors': [1, 2, 3, 4, 5, 6, 7, 8, 9, 10, 11, 12,\n",
              "                                         13, 14, 15, 16, 17, 18, 19, 20, 21, 22,\n",
              "                                         23, 24, 25, 26, 27, 28, 29, 30, ...]})"
            ]
          },
          "execution_count": 39,
          "metadata": {},
          "output_type": "execute_result"
        }
      ],
      "source": [
        "grid = GridSearchCV(knn_cosine, param_grid, cv=10)\n",
        "grid.fit(X, y)"
      ]
    },
    {
      "cell_type": "code",
      "execution_count": 40,
      "metadata": {},
      "outputs": [
        {
          "name": "stdout",
          "output_type": "stream",
          "text": [
            "[0.67465412 0.65758526 0.71681145 0.72935972 0.75173745 0.74906692\n",
            " 0.76340894 0.76698037 0.77146879 0.76970721 0.77509653 0.78224743\n",
            " 0.77417954 0.77413932 0.76791345 0.77418758 0.77417954 0.77597329\n",
            " 0.77329472 0.76972329 0.77149292 0.77146879 0.77236969 0.7723536\n",
            " 0.77413127 0.77592503 0.78044562 0.77411519 0.77142053 0.77412323\n",
            " 0.77233752 0.77591699 0.77501609 0.7660473  0.77051963 0.76782497\n",
            " 0.76870978 0.76781692 0.77502413 0.77949646 0.77323842 0.77143662\n",
            " 0.7678491  0.76875    0.76786519 0.76875804 0.76875804 0.76876609\n",
            " 0.76695624]\n"
          ]
        }
      ],
      "source": [
        "grid_mean_scores = grid.cv_results_['mean_test_score']\n",
        "print(grid_mean_scores)"
      ]
    },
    {
      "cell_type": "code",
      "execution_count": 41,
      "metadata": {},
      "outputs": [
        {
          "data": {
            "text/plain": [
              "Text(0, 0.5, 'Cross-Validated Accuracy')"
            ]
          },
          "execution_count": 41,
          "metadata": {},
          "output_type": "execute_result"
        },
        {
          "data": {
            "image/png": "[encoded data removed]",
            "text/plain": [
              "<Figure size 640x480 with 1 Axes>"
            ]
          },
          "metadata": {},
          "output_type": "display_data"
        }
      ],
      "source": [
        "plt.title('Knn cosine distance best k')\n",
        "plt.plot(k_range, grid_mean_scores)\n",
        "plt.xlabel('Value of K for KNN')\n",
        "plt.ylabel('Cross-Validated Accuracy')"
      ]
    },
    {
      "cell_type": "code",
      "execution_count": 42,
      "metadata": {},
      "outputs": [
        {
          "name": "stdout",
          "output_type": "stream",
          "text": [
            "0.7822474259974259\n",
            "{'n_neighbors': 12}\n",
            "KNeighborsClassifier(metric='cosine', n_neighbors=12)\n"
          ]
        }
      ],
      "source": [
        "print(grid.best_score_)\n",
        "print(grid.best_params_)\n",
        "print(grid.best_estimator_)"
      ]
    },
    {
      "cell_type": "code",
      "execution_count": 43,
      "metadata": {},
      "outputs": [
        {
          "data": {
            "text/html": [
              "<style>#sk-container-id-2 {\n",
              "  /* Definition of color scheme common for light and dark mode */\n",
              "  --sklearn-color-text: black;\n",
              "  --sklearn-color-line: gray;\n",
              "  /* Definition of color scheme for unfitted estimators */\n",
              "  --sklearn-color-unfitted-level-0: #fff5e6;\n",
              "  --sklearn-color-unfitted-level-1: #f6e4d2;\n",
              "  --sklearn-color-unfitted-level-2: #ffe0b3;\n",
              "  --sklearn-color-unfitted-level-3: chocolate;\n",
              "  /* Definition of color scheme for fitted estimators */\n",
              "  --sklearn-color-fitted-level-0: #f0f8ff;\n",
              "  --sklearn-color-fitted-level-1: #d4ebff;\n",
              "  --sklearn-color-fitted-level-2: #b3dbfd;\n",
              "  --sklearn-color-fitted-level-3: cornflowerblue;\n",
              "\n",
              "  /* Specific color for light theme */\n",
              "  --sklearn-color-text-on-default-background: var(--sg-text-color, var(--theme-code-foreground, var(--jp-content-font-color1, black)));\n",
              "  --sklearn-color-background: var(--sg-background-color, var(--theme-background, var(--jp-layout-color0, white)));\n",
              "  --sklearn-color-border-box: var(--sg-text-color, var(--theme-code-foreground, var(--jp-content-font-color1, black)));\n",
              "  --sklearn-color-icon: #696969;\n",
              "\n",
              "  @media (prefers-color-scheme: dark) {\n",
              "    /* Redefinition of color scheme for dark theme */\n",
              "    --sklearn-color-text-on-default-background: var(--sg-text-color, var(--theme-code-foreground, var(--jp-content-font-color1, white)));\n",
              "    --sklearn-color-background: var(--sg-background-color, var(--theme-background, var(--jp-layout-color0, #111)));\n",
              "    --sklearn-color-border-box: var(--sg-text-color, var(--theme-code-foreground, var(--jp-content-font-color1, white)));\n",
              "    --sklearn-color-icon: #878787;\n",
              "  }\n",
              "}\n",
              "\n",
              "#sk-container-id-2 {\n",
              "  color: var(--sklearn-color-text);\n",
              "}\n",
              "\n",
              "#sk-container-id-2 pre {\n",
              "  padding: 0;\n",
              "}\n",
              "\n",
              "#sk-container-id-2 input.sk-hidden--visually {\n",
              "  border: 0;\n",
              "  clip: rect(1px 1px 1px 1px);\n",
              "  clip: rect(1px, 1px, 1px, 1px);\n",
              "  height: 1px;\n",
              "  margin: -1px;\n",
              "  overflow: hidden;\n",
              "  padding: 0;\n",
              "  position: absolute;\n",
              "  width: 1px;\n",
              "}\n",
              "\n",
              "#sk-container-id-2 div.sk-dashed-wrapped {\n",
              "  border: 1px dashed var(--sklearn-color-line);\n",
              "  margin: 0 0.4em 0.5em 0.4em;\n",
              "  box-sizing: border-box;\n",
              "  padding-bottom: 0.4em;\n",
              "  background-color: var(--sklearn-color-background);\n",
              "}\n",
              "\n",
              "#sk-container-id-2 div.sk-container {\n",
              "  /* jupyter's `normalize.less` sets `[hidden] { display: none; }`\n",
              "     but bootstrap.min.css set `[hidden] { display: none !important; }`\n",
              "     so we also need the `!important` here to be able to override the\n",
              "     default hidden behavior on the sphinx rendered scikit-learn.org.\n",
              "     See: https://github.com/scikit-learn/scikit-learn/issues/21755 */\n",
              "  display: inline-block !important;\n",
              "  position: relative;\n",
              "}\n",
              "\n",
              "#sk-container-id-2 div.sk-text-repr-fallback {\n",
              "  display: none;\n",
              "}\n",
              "\n",
              "div.sk-parallel-item,\n",
              "div.sk-serial,\n",
              "div.sk-item {\n",
              "  /* draw centered vertical line to link estimators */\n",
              "  background-image: linear-gradient(var(--sklearn-color-text-on-default-background), var(--sklearn-color-text-on-default-background));\n",
              "  background-size: 2px 100%;\n",
              "  background-repeat: no-repeat;\n",
              "  background-position: center center;\n",
              "}\n",
              "\n",
              "/* Parallel-specific style estimator block */\n",
              "\n",
              "#sk-container-id-2 div.sk-parallel-item::after {\n",
              "  content: \"\";\n",
              "  width: 100%;\n",
              "  border-bottom: 2px solid var(--sklearn-color-text-on-default-background);\n",
              "  flex-grow: 1;\n",
              "}\n",
              "\n",
              "#sk-container-id-2 div.sk-parallel {\n",
              "  display: flex;\n",
              "  align-items: stretch;\n",
              "  justify-content: center;\n",
              "  background-color: var(--sklearn-color-background);\n",
              "  position: relative;\n",
              "}\n",
              "\n",
              "#sk-container-id-2 div.sk-parallel-item {\n",
              "  display: flex;\n",
              "  flex-direction: column;\n",
              "}\n",
              "\n",
              "#sk-container-id-2 div.sk-parallel-item:first-child::after {\n",
              "  align-self: flex-end;\n",
              "  width: 50%;\n",
              "}\n",
              "\n",
              "#sk-container-id-2 div.sk-parallel-item:last-child::after {\n",
              "  align-self: flex-start;\n",
              "  width: 50%;\n",
              "}\n",
              "\n",
              "#sk-container-id-2 div.sk-parallel-item:only-child::after {\n",
              "  width: 0;\n",
              "}\n",
              "\n",
              "/* Serial-specific style estimator block */\n",
              "\n",
              "#sk-container-id-2 div.sk-serial {\n",
              "  display: flex;\n",
              "  flex-direction: column;\n",
              "  align-items: center;\n",
              "  background-color: var(--sklearn-color-background);\n",
              "  padding-right: 1em;\n",
              "  padding-left: 1em;\n",
              "}\n",
              "\n",
              "\n",
              "/* Toggleable style: style used for estimator/Pipeline/ColumnTransformer box that is\n",
              "clickable and can be expanded/collapsed.\n",
              "- Pipeline and ColumnTransformer use this feature and define the default style\n",
              "- Estimators will overwrite some part of the style using the `sk-estimator` class\n",
              "*/\n",
              "\n",
              "/* Pipeline and ColumnTransformer style (default) */\n",
              "\n",
              "#sk-container-id-2 div.sk-toggleable {\n",
              "  /* Default theme specific background. It is overwritten whether we have a\n",
              "  specific estimator or a Pipeline/ColumnTransformer */\n",
              "  background-color: var(--sklearn-color-background);\n",
              "}\n",
              "\n",
              "/* Toggleable label */\n",
              "#sk-container-id-2 label.sk-toggleable__label {\n",
              "  cursor: pointer;\n",
              "  display: block;\n",
              "  width: 100%;\n",
              "  margin-bottom: 0;\n",
              "  padding: 0.5em;\n",
              "  box-sizing: border-box;\n",
              "  text-align: center;\n",
              "}\n",
              "\n",
              "#sk-container-id-2 label.sk-toggleable__label-arrow:before {\n",
              "  /* Arrow on the left of the label */\n",
              "  content: \"▸\";\n",
              "  float: left;\n",
              "  margin-right: 0.25em;\n",
              "  color: var(--sklearn-color-icon);\n",
              "}\n",
              "\n",
              "#sk-container-id-2 label.sk-toggleable__label-arrow:hover:before {\n",
              "  color: var(--sklearn-color-text);\n",
              "}\n",
              "\n",
              "/* Toggleable content - dropdown */\n",
              "\n",
              "#sk-container-id-2 div.sk-toggleable__content {\n",
              "  max-height: 0;\n",
              "  max-width: 0;\n",
              "  overflow: hidden;\n",
              "  text-align: left;\n",
              "  /* unfitted */\n",
              "  background-color: var(--sklearn-color-unfitted-level-0);\n",
              "}\n",
              "\n",
              "#sk-container-id-2 div.sk-toggleable__content.fitted {\n",
              "  /* fitted */\n",
              "  background-color: var(--sklearn-color-fitted-level-0);\n",
              "}\n",
              "\n",
              "#sk-container-id-2 div.sk-toggleable__content pre {\n",
              "  margin: 0.2em;\n",
              "  border-radius: 0.25em;\n",
              "  color: var(--sklearn-color-text);\n",
              "  /* unfitted */\n",
              "  background-color: var(--sklearn-color-unfitted-level-0);\n",
              "}\n",
              "\n",
              "#sk-container-id-2 div.sk-toggleable__content.fitted pre {\n",
              "  /* unfitted */\n",
              "  background-color: var(--sklearn-color-fitted-level-0);\n",
              "}\n",
              "\n",
              "#sk-container-id-2 input.sk-toggleable__control:checked~div.sk-toggleable__content {\n",
              "  /* Expand drop-down */\n",
              "  max-height: 200px;\n",
              "  max-width: 100%;\n",
              "  overflow: auto;\n",
              "}\n",
              "\n",
              "#sk-container-id-2 input.sk-toggleable__control:checked~label.sk-toggleable__label-arrow:before {\n",
              "  content: \"▾\";\n",
              "}\n",
              "\n",
              "/* Pipeline/ColumnTransformer-specific style */\n",
              "\n",
              "#sk-container-id-2 div.sk-label input.sk-toggleable__control:checked~label.sk-toggleable__label {\n",
              "  color: var(--sklearn-color-text);\n",
              "  background-color: var(--sklearn-color-unfitted-level-2);\n",
              "}\n",
              "\n",
              "#sk-container-id-2 div.sk-label.fitted input.sk-toggleable__control:checked~label.sk-toggleable__label {\n",
              "  background-color: var(--sklearn-color-fitted-level-2);\n",
              "}\n",
              "\n",
              "/* Estimator-specific style */\n",
              "\n",
              "/* Colorize estimator box */\n",
              "#sk-container-id-2 div.sk-estimator input.sk-toggleable__control:checked~label.sk-toggleable__label {\n",
              "  /* unfitted */\n",
              "  background-color: var(--sklearn-color-unfitted-level-2);\n",
              "}\n",
              "\n",
              "#sk-container-id-2 div.sk-estimator.fitted input.sk-toggleable__control:checked~label.sk-toggleable__label {\n",
              "  /* fitted */\n",
              "  background-color: var(--sklearn-color-fitted-level-2);\n",
              "}\n",
              "\n",
              "#sk-container-id-2 div.sk-label label.sk-toggleable__label,\n",
              "#sk-container-id-2 div.sk-label label {\n",
              "  /* The background is the default theme color */\n",
              "  color: var(--sklearn-color-text-on-default-background);\n",
              "}\n",
              "\n",
              "/* On hover, darken the color of the background */\n",
              "#sk-container-id-2 div.sk-label:hover label.sk-toggleable__label {\n",
              "  color: var(--sklearn-color-text);\n",
              "  background-color: var(--sklearn-color-unfitted-level-2);\n",
              "}\n",
              "\n",
              "/* Label box, darken color on hover, fitted */\n",
              "#sk-container-id-2 div.sk-label.fitted:hover label.sk-toggleable__label.fitted {\n",
              "  color: var(--sklearn-color-text);\n",
              "  background-color: var(--sklearn-color-fitted-level-2);\n",
              "}\n",
              "\n",
              "/* Estimator label */\n",
              "\n",
              "#sk-container-id-2 div.sk-label label {\n",
              "  font-family: monospace;\n",
              "  font-weight: bold;\n",
              "  display: inline-block;\n",
              "  line-height: 1.2em;\n",
              "}\n",
              "\n",
              "#sk-container-id-2 div.sk-label-container {\n",
              "  text-align: center;\n",
              "}\n",
              "\n",
              "/* Estimator-specific */\n",
              "#sk-container-id-2 div.sk-estimator {\n",
              "  font-family: monospace;\n",
              "  border: 1px dotted var(--sklearn-color-border-box);\n",
              "  border-radius: 0.25em;\n",
              "  box-sizing: border-box;\n",
              "  margin-bottom: 0.5em;\n",
              "  /* unfitted */\n",
              "  background-color: var(--sklearn-color-unfitted-level-0);\n",
              "}\n",
              "\n",
              "#sk-container-id-2 div.sk-estimator.fitted {\n",
              "  /* fitted */\n",
              "  background-color: var(--sklearn-color-fitted-level-0);\n",
              "}\n",
              "\n",
              "/* on hover */\n",
              "#sk-container-id-2 div.sk-estimator:hover {\n",
              "  /* unfitted */\n",
              "  background-color: var(--sklearn-color-unfitted-level-2);\n",
              "}\n",
              "\n",
              "#sk-container-id-2 div.sk-estimator.fitted:hover {\n",
              "  /* fitted */\n",
              "  background-color: var(--sklearn-color-fitted-level-2);\n",
              "}\n",
              "\n",
              "/* Specification for estimator info (e.g. \"i\" and \"?\") */\n",
              "\n",
              "/* Common style for \"i\" and \"?\" */\n",
              "\n",
              ".sk-estimator-doc-link,\n",
              "a:link.sk-estimator-doc-link,\n",
              "a:visited.sk-estimator-doc-link {\n",
              "  float: right;\n",
              "  font-size: smaller;\n",
              "  line-height: 1em;\n",
              "  font-family: monospace;\n",
              "  background-color: var(--sklearn-color-background);\n",
              "  border-radius: 1em;\n",
              "  height: 1em;\n",
              "  width: 1em;\n",
              "  text-decoration: none !important;\n",
              "  margin-left: 1ex;\n",
              "  /* unfitted */\n",
              "  border: var(--sklearn-color-unfitted-level-1) 1pt solid;\n",
              "  color: var(--sklearn-color-unfitted-level-1);\n",
              "}\n",
              "\n",
              ".sk-estimator-doc-link.fitted,\n",
              "a:link.sk-estimator-doc-link.fitted,\n",
              "a:visited.sk-estimator-doc-link.fitted {\n",
              "  /* fitted */\n",
              "  border: var(--sklearn-color-fitted-level-1) 1pt solid;\n",
              "  color: var(--sklearn-color-fitted-level-1);\n",
              "}\n",
              "\n",
              "/* On hover */\n",
              "div.sk-estimator:hover .sk-estimator-doc-link:hover,\n",
              ".sk-estimator-doc-link:hover,\n",
              "div.sk-label-container:hover .sk-estimator-doc-link:hover,\n",
              ".sk-estimator-doc-link:hover {\n",
              "  /* unfitted */\n",
              "  background-color: var(--sklearn-color-unfitted-level-3);\n",
              "  color: var(--sklearn-color-background);\n",
              "  text-decoration: none;\n",
              "}\n",
              "\n",
              "div.sk-estimator.fitted:hover .sk-estimator-doc-link.fitted:hover,\n",
              ".sk-estimator-doc-link.fitted:hover,\n",
              "div.sk-label-container:hover .sk-estimator-doc-link.fitted:hover,\n",
              ".sk-estimator-doc-link.fitted:hover {\n",
              "  /* fitted */\n",
              "  background-color: var(--sklearn-color-fitted-level-3);\n",
              "  color: var(--sklearn-color-background);\n",
              "  text-decoration: none;\n",
              "}\n",
              "\n",
              "/* Span, style for the box shown on hovering the info icon */\n",
              ".sk-estimator-doc-link span {\n",
              "  display: none;\n",
              "  z-index: 9999;\n",
              "  position: relative;\n",
              "  font-weight: normal;\n",
              "  right: .2ex;\n",
              "  padding: .5ex;\n",
              "  margin: .5ex;\n",
              "  width: min-content;\n",
              "  min-width: 20ex;\n",
              "  max-width: 50ex;\n",
              "  color: var(--sklearn-color-text);\n",
              "  box-shadow: 2pt 2pt 4pt #999;\n",
              "  /* unfitted */\n",
              "  background: var(--sklearn-color-unfitted-level-0);\n",
              "  border: .5pt solid var(--sklearn-color-unfitted-level-3);\n",
              "}\n",
              "\n",
              ".sk-estimator-doc-link.fitted span {\n",
              "  /* fitted */\n",
              "  background: var(--sklearn-color-fitted-level-0);\n",
              "  border: var(--sklearn-color-fitted-level-3);\n",
              "}\n",
              "\n",
              ".sk-estimator-doc-link:hover span {\n",
              "  display: block;\n",
              "}\n",
              "\n",
              "/* \"?\"-specific style due to the `<a>` HTML tag */\n",
              "\n",
              "#sk-container-id-2 a.estimator_doc_link {\n",
              "  float: right;\n",
              "  font-size: 1rem;\n",
              "  line-height: 1em;\n",
              "  font-family: monospace;\n",
              "  background-color: var(--sklearn-color-background);\n",
              "  border-radius: 1rem;\n",
              "  height: 1rem;\n",
              "  width: 1rem;\n",
              "  text-decoration: none;\n",
              "  /* unfitted */\n",
              "  color: var(--sklearn-color-unfitted-level-1);\n",
              "  border: var(--sklearn-color-unfitted-level-1) 1pt solid;\n",
              "}\n",
              "\n",
              "#sk-container-id-2 a.estimator_doc_link.fitted {\n",
              "  /* fitted */\n",
              "  border: var(--sklearn-color-fitted-level-1) 1pt solid;\n",
              "  color: var(--sklearn-color-fitted-level-1);\n",
              "}\n",
              "\n",
              "/* On hover */\n",
              "#sk-container-id-2 a.estimator_doc_link:hover {\n",
              "  /* unfitted */\n",
              "  background-color: var(--sklearn-color-unfitted-level-3);\n",
              "  color: var(--sklearn-color-background);\n",
              "  text-decoration: none;\n",
              "}\n",
              "\n",
              "#sk-container-id-2 a.estimator_doc_link.fitted:hover {\n",
              "  /* fitted */\n",
              "  background-color: var(--sklearn-color-fitted-level-3);\n",
              "}\n",
              "</style><div id=\"sk-container-id-2\" class=\"sk-top-container\"><div class=\"sk-text-repr-fallback\"><pre>GridSearchCV(cv=10, estimator=KNeighborsClassifier(),\n",
              "             param_grid={&#x27;n_neighbors&#x27;: [1, 2, 3, 4, 5, 6, 7, 8, 9, 10, 11, 12,\n",
              "                                         13, 14, 15, 16, 17, 18, 19, 20, 21, 22,\n",
              "                                         23, 24, 25, 26, 27, 28, 29, 30, ...]})</pre><b>In a Jupyter environment, please rerun this cell to show the HTML representation or trust the notebook. <br />On GitHub, the HTML representation is unable to render, please try loading this page with nbviewer.org.</b></div><div class=\"sk-container\" hidden><div class=\"sk-item sk-dashed-wrapped\"><div class=\"sk-label-container\"><div class=\"sk-label fitted sk-toggleable\"><input class=\"sk-toggleable__control sk-hidden--visually\" id=\"sk-estimator-id-4\" type=\"checkbox\" ><label for=\"sk-estimator-id-4\" class=\"sk-toggleable__label fitted sk-toggleable__label-arrow fitted\">&nbsp;&nbsp;GridSearchCV<a class=\"sk-estimator-doc-link fitted\" rel=\"noreferrer\" target=\"_blank\" href=\"https://scikit-learn.org/1.4/modules/generated/sklearn.model_selection.GridSearchCV.html\">?<span>Documentation for GridSearchCV</span></a><span class=\"sk-estimator-doc-link fitted\">i<span>Fitted</span></span></label><div class=\"sk-toggleable__content fitted\"><pre>GridSearchCV(cv=10, estimator=KNeighborsClassifier(),\n",
              "             param_grid={&#x27;n_neighbors&#x27;: [1, 2, 3, 4, 5, 6, 7, 8, 9, 10, 11, 12,\n",
              "                                         13, 14, 15, 16, 17, 18, 19, 20, 21, 22,\n",
              "                                         23, 24, 25, 26, 27, 28, 29, 30, ...]})</pre></div> </div></div><div class=\"sk-parallel\"><div class=\"sk-parallel-item\"><div class=\"sk-item\"><div class=\"sk-label-container\"><div class=\"sk-label fitted sk-toggleable\"><input class=\"sk-toggleable__control sk-hidden--visually\" id=\"sk-estimator-id-5\" type=\"checkbox\" ><label for=\"sk-estimator-id-5\" class=\"sk-toggleable__label fitted sk-toggleable__label-arrow fitted\">estimator: KNeighborsClassifier</label><div class=\"sk-toggleable__content fitted\"><pre>KNeighborsClassifier()</pre></div> </div></div><div class=\"sk-serial\"><div class=\"sk-item\"><div class=\"sk-estimator fitted sk-toggleable\"><input class=\"sk-toggleable__control sk-hidden--visually\" id=\"sk-estimator-id-6\" type=\"checkbox\" ><label for=\"sk-estimator-id-6\" class=\"sk-toggleable__label fitted sk-toggleable__label-arrow fitted\">&nbsp;KNeighborsClassifier<a class=\"sk-estimator-doc-link fitted\" rel=\"noreferrer\" target=\"_blank\" href=\"https://scikit-learn.org/1.4/modules/generated/sklearn.neighbors.KNeighborsClassifier.html\">?<span>Documentation for KNeighborsClassifier</span></a></label><div class=\"sk-toggleable__content fitted\"><pre>KNeighborsClassifier()</pre></div> </div></div></div></div></div></div></div></div></div>"
            ],
            "text/plain": [
              "GridSearchCV(cv=10, estimator=KNeighborsClassifier(),\n",
              "             param_grid={'n_neighbors': [1, 2, 3, 4, 5, 6, 7, 8, 9, 10, 11, 12,\n",
              "                                         13, 14, 15, 16, 17, 18, 19, 20, 21, 22,\n",
              "                                         23, 24, 25, 26, 27, 28, 29, 30, ...]})"
            ]
          },
          "execution_count": 43,
          "metadata": {},
          "output_type": "execute_result"
        }
      ],
      "source": [
        "knn_euclidean = KNeighborsClassifier()\n",
        "\n",
        "grid = GridSearchCV(knn_euclidean, param_grid, cv=10)\n",
        "grid.fit(X, y)"
      ]
    },
    {
      "cell_type": "code",
      "execution_count": 44,
      "metadata": {},
      "outputs": [
        {
          "name": "stdout",
          "output_type": "stream",
          "text": [
            "[0.60835746 0.58859395 0.62264318 0.66117278 0.67643179 0.68717021\n",
            " 0.69792471 0.70146396 0.71225064 0.70686133 0.71315959 0.71675515\n",
            " 0.72392214 0.73019627 0.7328668  0.72839447 0.72574003 0.72216055\n",
            " 0.73203024 0.7311213  0.73919723 0.74008205 0.73829633 0.7418758\n",
            " 0.73470077 0.73916506 0.73469273 0.73468468 0.74009009 0.7409749\n",
            " 0.73832046 0.7329231  0.7320222  0.72574807 0.72484717 0.72935972\n",
            " 0.72845077 0.73203024 0.73203829 0.73381596 0.73291506 0.73381596\n",
            " 0.73022844 0.72932754 0.72573198 0.72484717 0.72485521 0.73470077\n",
            " 0.73469273]\n"
          ]
        }
      ],
      "source": [
        "grid_mean_scores = grid.cv_results_['mean_test_score']\n",
        "print(grid_mean_scores)"
      ]
    },
    {
      "cell_type": "code",
      "execution_count": 45,
      "metadata": {},
      "outputs": [
        {
          "data": {
            "text/plain": [
              "Text(0, 0.5, 'Cross-Validated Accuracy')"
            ]
          },
          "execution_count": 45,
          "metadata": {},
          "output_type": "execute_result"
        },
        {
          "data": {
            "image/png": "[encoded data removed]",
            "text/plain": [
              "<Figure size 640x480 with 1 Axes>"
            ]
          },
          "metadata": {},
          "output_type": "display_data"
        }
      ],
      "source": [
        "plt.plot(k_range, grid_mean_scores)\n",
        "plt.xlabel('Value of K for KNN')\n",
        "plt.ylabel('Cross-Validated Accuracy')"
      ]
    },
    {
      "cell_type": "code",
      "execution_count": 46,
      "metadata": {},
      "outputs": [
        {
          "name": "stdout",
          "output_type": "stream",
          "text": [
            "0.7418758043758045\n",
            "{'n_neighbors': 24}\n",
            "KNeighborsClassifier(n_neighbors=24)\n"
          ]
        }
      ],
      "source": [
        "print(grid.best_score_)\n",
        "print(grid.best_params_)\n",
        "print(grid.best_estimator_)"
      ]
    },
    {
      "cell_type": "code",
      "execution_count": 47,
      "metadata": {},
      "outputs": [],
      "source": [
        "X_train, X_test, y_train, y_test = train_test_split(X,y, test_size=0.25, random_state=21)"
      ]
    },
    {
      "cell_type": "code",
      "execution_count": 48,
      "metadata": {},
      "outputs": [],
      "source": [
        "knn_cosine = KNeighborsClassifier(n_neighbors=12, metric='cosine')\n",
        "knn_cosine.fit(X_train, y_train)\n",
        "\n",
        "y_pred_cosine = knn_cosine.predict(X_test)"
      ]
    },
    {
      "cell_type": "code",
      "execution_count": 49,
      "metadata": {},
      "outputs": [
        {
          "name": "stdout",
          "output_type": "stream",
          "text": [
            "   Confusion matrix knn cosine:\n",
            "\n",
            "[[10  3  0  0  0  0  2  3  0  0]\n",
            " [ 1 27  0  0  1  0  1  1  0  0]\n",
            " [ 1  1 23  0  0  0  0  0  0  0]\n",
            " [ 1  1  1  6  1  1  2  3  0  1]\n",
            " [ 0  0  0  0 19  1  4  1  0  1]\n",
            " [ 0  1  0  1  3 12  2  0  0  0]\n",
            " [ 1  0  0  1  0  0 51  1  1  0]\n",
            " [ 1  1  2  0  0  0  3 38  2  0]\n",
            " [ 0  1  0  1  0  1  0  1 19  0]\n",
            " [ 2  1  0  1  0  0  2  6  1  5]]\n"
          ]
        }
      ],
      "source": [
        "print(\"   Confusion matrix knn cosine:\\n\")\n",
        "print(confusion_matrix(y_test, y_pred_cosine))"
      ]
    },
    {
      "cell_type": "code",
      "execution_count": 50,
      "metadata": {},
      "outputs": [
        {
          "name": "stdout",
          "output_type": "stream",
          "text": [
            "               Classification report knn cosine:\n",
            "\n",
            "              precision    recall  f1-score   support\n",
            "\n",
            "           0       0.59      0.56      0.57        18\n",
            "           1       0.75      0.87      0.81        31\n",
            "           2       0.88      0.92      0.90        25\n",
            "           3       0.60      0.35      0.44        17\n",
            "           4       0.79      0.73      0.76        26\n",
            "           5       0.80      0.63      0.71        19\n",
            "           6       0.76      0.93      0.84        55\n",
            "           7       0.70      0.81      0.75        47\n",
            "           8       0.83      0.83      0.83        23\n",
            "           9       0.71      0.28      0.40        18\n",
            "\n",
            "    accuracy                           0.75       279\n",
            "   macro avg       0.74      0.69      0.70       279\n",
            "weighted avg       0.75      0.75      0.74       279\n",
            "\n"
          ]
        }
      ],
      "source": [
        "print(\"               Classification report knn cosine:\\n\")\n",
        "print(classification_report(y_test, y_pred_cosine))"
      ]
    },
    {
      "cell_type": "code",
      "execution_count": 51,
      "metadata": {},
      "outputs": [],
      "source": [
        "knn_euclidean = KNeighborsClassifier(n_neighbors=24)\n",
        "knn_euclidean.fit(X_train, y_train)\n",
        "\n",
        "y_pred_euclidean = knn_euclidean.predict(X_test)"
      ]
    },
    {
      "cell_type": "code",
      "execution_count": 52,
      "metadata": {},
      "outputs": [
        {
          "name": "stdout",
          "output_type": "stream",
          "text": [
            "   Confusion matrix knn cosine:\n",
            "\n",
            "[[10  1  0  2  0  0  2  2  0  1]\n",
            " [ 1 26  0  0  0  0  1  2  1  0]\n",
            " [ 1  1 21  1  0  0  0  1  0  0]\n",
            " [ 0  2  1 10  0  0  1  3  0  0]\n",
            " [ 0  0  0  0 18  0  7  1  0  0]\n",
            " [ 0  2  0  1  5  8  2  1  0  0]\n",
            " [ 0  0  1  2  0  0 51  1  0  0]\n",
            " [ 0  2  0  1  0  0  5 38  1  0]\n",
            " [ 0  1  0  1  0  0  0  2 19  0]\n",
            " [ 3  1  0  1  0  0  3  7  0  3]]\n"
          ]
        }
      ],
      "source": [
        "print(\"   Confusion matrix knn cosine:\\n\")\n",
        "print(confusion_matrix(y_test, y_pred_euclidean))"
      ]
    },
    {
      "cell_type": "code",
      "execution_count": 53,
      "metadata": {},
      "outputs": [
        {
          "name": "stdout",
          "output_type": "stream",
          "text": [
            "               Classification report knn euclidean:\n",
            "\n",
            "              precision    recall  f1-score   support\n",
            "\n",
            "           0       0.67      0.56      0.61        18\n",
            "           1       0.72      0.84      0.78        31\n",
            "           2       0.91      0.84      0.88        25\n",
            "           3       0.53      0.59      0.56        17\n",
            "           4       0.78      0.69      0.73        26\n",
            "           5       1.00      0.42      0.59        19\n",
            "           6       0.71      0.93      0.80        55\n",
            "           7       0.66      0.81      0.72        47\n",
            "           8       0.90      0.83      0.86        23\n",
            "           9       0.75      0.17      0.27        18\n",
            "\n",
            "    accuracy                           0.73       279\n",
            "   macro avg       0.76      0.67      0.68       279\n",
            "weighted avg       0.75      0.73      0.72       279\n",
            "\n"
          ]
        }
      ],
      "source": [
        "print(\"               Classification report knn euclidean:\\n\")\n",
        "print(classification_report(y_test, y_pred_euclidean))"
      ]
    },
    {
      "cell_type": "markdown",
      "metadata": {},
      "source": [
        "AUC Curve"
      ]
    },
    {
      "cell_type": "code",
      "execution_count": 54,
      "metadata": {},
      "outputs": [],
      "source": [
        "from sklearn.preprocessing import label_binarize"
      ]
    },
    {
      "cell_type": "code",
      "execution_count": 55,
      "metadata": {},
      "outputs": [],
      "source": [
        "# Binarize the labels\n",
        "y_train_bin = label_binarize(y_train, classes=np.unique(y))\n",
        "y_test_bin = label_binarize(y_test, classes=np.unique(y))"
      ]
    },
    {
      "cell_type": "code",
      "execution_count": 56,
      "metadata": {},
      "outputs": [],
      "source": [
        "classifiers = {\n",
        "    'knn Cosine distance': KNeighborsClassifier(n_neighbors=12,metric='cosine'),\n",
        "    'knn Euclidean distance': KNeighborsClassifier(n_neighbors=24)\n",
        "}"
      ]
    },
    {
      "cell_type": "code",
      "execution_count": 57,
      "metadata": {},
      "outputs": [],
      "source": [
        "y_train_bin = label_binarize(y_train, classes=np.unique(y))\n",
        "y_test_bin = label_binarize(y_test, classes=np.unique(y))"
      ]
    },
    {
      "cell_type": "code",
      "execution_count": 58,
      "metadata": {},
      "outputs": [
        {
          "data": {
            "image/png": "[encoded data removed]",
            "text/plain": [
              "<Figure size 1000x600 with 1 Axes>"
            ]
          },
          "metadata": {},
          "output_type": "display_data"
        },
        {
          "name": "stdout",
          "output_type": "stream",
          "text": [
            "The best classifier is: knn Euclidean distance with an average AUC score of 0.95\n"
          ]
        }
      ],
      "source": [
        "best_classifier = None\n",
        "best_auc_score = -1\n",
        "\n",
        "plt.figure(figsize=(10, 6))\n",
        "\n",
        "for name, classifier in classifiers.items():\n",
        "    fpr = dict()\n",
        "    tpr = dict()\n",
        "    roc_auc = dict()\n",
        "    clf = classifier.fit(X_train, y_train)\n",
        "    y_score = clf.predict_proba(X_test)\n",
        "    n_classes = y_train_bin.shape[1]\n",
        "    \n",
        "    for i in range(n_classes):\n",
        "        fpr[i], tpr[i], _ = roc_curve(y_test_bin[:, i], y_score[:, i])\n",
        "        roc_auc[i] = roc_auc_score(y_test_bin[:, i], y_score[:, i])\n",
        "\n",
        "    # Compute micro-average ROC curve and ROC area\n",
        "    fpr[\"micro\"], tpr[\"micro\"], _ = roc_curve(y_test_bin.ravel(), y_score.ravel())\n",
        "    roc_auc[\"micro\"] = roc_auc_score(y_test_bin, y_score, average=\"micro\")\n",
        "    \n",
        "    # Calculate the average AUC score for the current classifier\n",
        "    avg_auc_score = np.mean(list(roc_auc.values()))\n",
        "\n",
        "    # Check if the current classifier has the highest average AUC score\n",
        "    if avg_auc_score > best_auc_score:\n",
        "        best_auc_score = avg_auc_score\n",
        "        best_classifier = name\n",
        "\n",
        "    plt.plot(fpr[\"micro\"], tpr[\"micro\"],\n",
        "             label=f'{name} (Average AUC = {avg_auc_score:.2f})',\n",
        "             linestyle='--')\n",
        "\n",
        "plt.plot([0, 1], [0, 1], linestyle='--', color='gray')\n",
        "plt.xlabel('False Positive Rate')\n",
        "plt.ylabel('True Positive Rate')\n",
        "plt.title('ROC Curves of Multiple Classifiers kNN Cosine and Euclidean)')\n",
        "plt.legend()\n",
        "plt.grid(True)\n",
        "plt.show()\n",
        "\n",
        "print(f\"The best classifier is: {best_classifier} with an average AUC score of {best_auc_score:.2f}\")"
      ]
    }
  ],
  "metadata": {
    "colab": {
      "provenance": []
    },
    "kernelspec": {
      "display_name": "apollo",
      "language": "python",
      "name": "python3"
    },
    "language_info": {
      "codemirror_mode": {
        "name": "ipython",
        "version": 3
      },
      "file_extension": ".py",
      "mimetype": "text/x-python",
      "name": "python",
      "nbconvert_exporter": "python",
      "pygments_lexer": "ipython3",
      "version": "3.10.12"
    }
  },
  "nbformat": 4,
  "nbformat_minor": 0
}
